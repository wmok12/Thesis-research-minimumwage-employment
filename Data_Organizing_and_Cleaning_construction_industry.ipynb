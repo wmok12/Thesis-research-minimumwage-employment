{
  "nbformat": 4,
  "nbformat_minor": 0,
  "metadata": {
    "colab": {
      "provenance": [],
      "mount_file_id": "1MEK65kBpiYfbUFAzCkuMkpDwuyA-b0dc",
      "authorship_tag": "ABX9TyPv60pBkRxXvrH+DxyA2IT/",
      "include_colab_link": true
    },
    "kernelspec": {
      "name": "python3",
      "display_name": "Python 3"
    },
    "language_info": {
      "name": "python"
    }
  },
  "cells": [
    {
      "cell_type": "markdown",
      "metadata": {
        "id": "view-in-github",
        "colab_type": "text"
      },
      "source": [
        "<a href=\"https://colab.research.google.com/github/wmok12/Thesis-research-minimumwage-employment/blob/main/Data_Organizing_and_Cleaning_construction_industry.ipynb\" target=\"_parent\"><img src=\"https://colab.research.google.com/assets/colab-badge.svg\" alt=\"Open In Colab\"/></a>"
      ]
    },
    {
      "cell_type": "markdown",
      "source": [
        "# Packages and loading data"
      ],
      "metadata": {
        "id": "izlQJbSix3Dy"
      }
    },
    {
      "cell_type": "code",
      "source": [
        "import pandas as pd\n",
        "import numpy as np\n",
        "from scipy import stats"
      ],
      "metadata": {
        "id": "-sL8r-w7eXQC"
      },
      "execution_count": null,
      "outputs": []
    },
    {
      "cell_type": "code",
      "source": [
        "pip install ipumspy"
      ],
      "metadata": {
        "colab": {
          "base_uri": "https://localhost:8080/"
        },
        "id": "fMI1NrdYtT81",
        "outputId": "665a9167-ca31-4e80-eed1-028b9beb5313"
      },
      "execution_count": null,
      "outputs": [
        {
          "output_type": "stream",
          "name": "stdout",
          "text": [
            "Requirement already satisfied: ipumspy in /usr/local/lib/python3.10/dist-packages (0.5.1)\n",
            "Requirement already satisfied: PyYAML<7.0.0,>=6.0.1 in /usr/local/lib/python3.10/dist-packages (from ipumspy) (6.0.2)\n",
            "Requirement already satisfied: click<9.0.0,>=8.0.0 in /usr/local/lib/python3.10/dist-packages (from ipumspy) (8.1.7)\n",
            "Requirement already satisfied: importlib-metadata<5.0.0,>=4.13.0 in /usr/local/lib/python3.10/dist-packages (from ipumspy) (4.13.0)\n",
            "Requirement already satisfied: numpy<2.0.0,>=1.24.4 in /usr/local/lib/python3.10/dist-packages (from ipumspy) (1.26.4)\n",
            "Requirement already satisfied: pandas<2.0.0,>=1.5.2 in /usr/local/lib/python3.10/dist-packages (from ipumspy) (1.5.3)\n",
            "Requirement already satisfied: pyarrow<15.0.0,>=14.0.2 in /usr/local/lib/python3.10/dist-packages (from ipumspy) (14.0.2)\n",
            "Requirement already satisfied: requests<3.0.0,>=2.26.0 in /usr/local/lib/python3.10/dist-packages (from requests[use-chardet-on-py3]<3.0.0,>=2.26.0->ipumspy) (2.32.3)\n",
            "Requirement already satisfied: zipp>=0.5 in /usr/local/lib/python3.10/dist-packages (from importlib-metadata<5.0.0,>=4.13.0->ipumspy) (3.21.0)\n",
            "Requirement already satisfied: python-dateutil>=2.8.1 in /usr/local/lib/python3.10/dist-packages (from pandas<2.0.0,>=1.5.2->ipumspy) (2.8.2)\n",
            "Requirement already satisfied: pytz>=2020.1 in /usr/local/lib/python3.10/dist-packages (from pandas<2.0.0,>=1.5.2->ipumspy) (2024.2)\n",
            "Requirement already satisfied: charset-normalizer<4,>=2 in /usr/local/lib/python3.10/dist-packages (from requests<3.0.0,>=2.26.0->requests[use-chardet-on-py3]<3.0.0,>=2.26.0->ipumspy) (3.4.0)\n",
            "Requirement already satisfied: idna<4,>=2.5 in /usr/local/lib/python3.10/dist-packages (from requests<3.0.0,>=2.26.0->requests[use-chardet-on-py3]<3.0.0,>=2.26.0->ipumspy) (3.10)\n",
            "Requirement already satisfied: urllib3<3,>=1.21.1 in /usr/local/lib/python3.10/dist-packages (from requests<3.0.0,>=2.26.0->requests[use-chardet-on-py3]<3.0.0,>=2.26.0->ipumspy) (2.2.3)\n",
            "Requirement already satisfied: certifi>=2017.4.17 in /usr/local/lib/python3.10/dist-packages (from requests<3.0.0,>=2.26.0->requests[use-chardet-on-py3]<3.0.0,>=2.26.0->ipumspy) (2024.8.30)\n",
            "Requirement already satisfied: chardet<6,>=3.0.2 in /usr/local/lib/python3.10/dist-packages (from requests[use-chardet-on-py3]<3.0.0,>=2.26.0->ipumspy) (5.2.0)\n",
            "Requirement already satisfied: six>=1.5 in /usr/local/lib/python3.10/dist-packages (from python-dateutil>=2.8.1->pandas<2.0.0,>=1.5.2->ipumspy) (1.16.0)\n"
          ]
        }
      ]
    },
    {
      "cell_type": "code",
      "source": [
        "from ipumspy import readers, ddi\n",
        "# Loading data\n",
        "ddi_codebook = readers.read_ipums_ddi(\"/content/drive/MyDrive/Thesis/Voorbereiding/cps_00008.xml\")\n",
        "raw_ipums_df_codes = readers.read_microdata(ddi_codebook, \"/content/drive/MyDrive/Thesis/Voorbereiding/cps_00008.csv.gz\")\n"
      ],
      "metadata": {
        "colab": {
          "base_uri": "https://localhost:8080/"
        },
        "id": "3wTC4Mhc5bM1",
        "outputId": "b5e573e9-76f8-44a5-af50-d4c6de955bdf"
      },
      "execution_count": null,
      "outputs": [
        {
          "output_type": "stream",
          "name": "stderr",
          "text": [
            "/usr/local/lib/python3.10/dist-packages/ipumspy/readers.py:70: CitationWarning: Use of data from IPUMS is subject to conditions including that users should cite the data appropriately.\n",
            "See the `ipums_conditions` attribute of this codebook for terms of use.\n",
            "See the `ipums_citation` attribute of this codebook for the appropriate citation.\n",
            "  warnings.warn(\n"
          ]
        }
      ]
    },
    {
      "cell_type": "markdown",
      "source": [
        "# Explore data"
      ],
      "metadata": {
        "id": "0w9TER9kyB02"
      }
    },
    {
      "cell_type": "code",
      "source": [
        "print(raw_ipums_df_codes.head())"
      ],
      "metadata": {
        "colab": {
          "base_uri": "https://localhost:8080/"
        },
        "id": "UJQiIdJoSobJ",
        "outputId": "3357e075-3a9f-47a7-e53d-5ab18d5ed043"
      },
      "execution_count": null,
      "outputs": [
        {
          "output_type": "stream",
          "name": "stdout",
          "text": [
            "   YEAR  SERIAL  MONTH  STATEFIP  AGE  SEX  RACE  MARST  EMPSTAT  LABFORCE  \\\n",
            "0  2010       1      1         1   60    2   100      4       10         2   \n",
            "1  2010       1      1         1   29    1   100      6       21         2   \n",
            "2  2010       6      1         1   85    2   100      4       36         1   \n",
            "3  2010       7      1         1   52    2   100      4       21         2   \n",
            "4  2010       7      1         1   37    1   100      4       21         2   \n",
            "\n",
            "    IND  CLASSWKR  UHRSWORK1  EDUC  HOURWAGE  \n",
            "0  8190        22         40    91    999.99  \n",
            "1   170        22        999    73    999.99  \n",
            "2     0         0        999    92    999.99  \n",
            "3  7580        22        999   111    999.99  \n",
            "4   770        22        999    91    999.99  \n"
          ]
        }
      ]
    },
    {
      "cell_type": "code",
      "source": [
        "raw_ipums_df = raw_ipums_df_codes.copy()"
      ],
      "metadata": {
        "id": "yQHVFBcVjDjk"
      },
      "execution_count": null,
      "outputs": []
    },
    {
      "cell_type": "code",
      "source": [
        "# Checking features\n",
        "unique_values = raw_ipums_df[\"RACE\"].unique()\n",
        "print(unique_values)\n",
        "\n",
        "value_counts = raw_ipums_df[\"RACE\"].value_counts()\n",
        "print(value_counts)"
      ],
      "metadata": {
        "colab": {
          "base_uri": "https://localhost:8080/"
        },
        "id": "F3KMR7xcPn1l",
        "outputId": "9b302ee4-293e-4de1-a94a-23c24b148db6"
      },
      "execution_count": null,
      "outputs": [
        {
          "output_type": "stream",
          "name": "stdout",
          "text": [
            "<IntegerArray>\n",
            "[100, 200, 651, 806, 802, 801, 803, 807, 814, 300, 652, 805, 810, 808, 812,\n",
            " 809, 813, 804, 820, 811, 830, 816, 818, 817, 819, 815]\n",
            "Length: 26, dtype: Int64\n",
            "100    15529698\n",
            "200     2041471\n",
            "651      984867\n",
            "300      247547\n",
            "802      131173\n",
            "801      127037\n",
            "652       90365\n",
            "803       80406\n",
            "804       18606\n",
            "805       17446\n",
            "813       14822\n",
            "809       14429\n",
            "810       13478\n",
            "806        6402\n",
            "811        2697\n",
            "812        2082\n",
            "807        1967\n",
            "830        1489\n",
            "808        1402\n",
            "820        1134\n",
            "817         847\n",
            "814         732\n",
            "816         703\n",
            "815         558\n",
            "818         286\n",
            "819         159\n",
            "Name: RACE, dtype: Int64\n"
          ]
        }
      ]
    },
    {
      "cell_type": "markdown",
      "source": [
        "# Coding variable into words in stead of standard coding from IPUMS CPS"
      ],
      "metadata": {
        "id": "iU_qYd1cyd_B"
      }
    },
    {
      "cell_type": "code",
      "source": [
        "# Mapping, transforming coding into words\n",
        "mappings = {\n",
        "    'SEX': {1: 'Male', 2: 'Female', 9: 'NIU'},\n",
        "    'EMPSTAT': {10: 'Employed', 21: 'Unemployed', 36: 'Unemployed', 32: 'Unemployed', 34: 'Unemployed', 0: 'Others', 12: 'Employed', 1: 'Others', 22: 'Unemployed'},\n",
        "    'LABFORCE': {0: 'Others', 1: 'Not labor force', 2: 'In labor force'},\n",
        "    'IND': {770: 'Construction', 7860: 'Elementary and secondary schools'},\n",
        "    'WKSTAT': {11: 'Full-time', 50: 'Unemployed, seeking for part-time', 99: 'Others', 12: 'Full-time', 41: 'Part-time', 21: 'Full-time', 22: 'Part-time', 60: 'Unemployed, seeking for part-time', 42: 'Part-time', 13 :'Full-time', 15: 'Part-time', 14: 'Part-time'},\n",
        "    'EDUC': {91: 'AC degree, occupational program', 73: 'High school diploma', 92: 'AC degree, academic program', 111: 'Bachelor\\'s degree', 50: 'Grade 10', 60: 'Grade 11', 20: 'Grades 5 or 6', 81: 'Some college', 40: 'Grade 9', 1: 'No schooling', 30: 'Grades 7 or 8', 10: 'Grades 1 t/m 4', 123: 'Master/s degree', 125: 'Doctorate degree', 124: 'Professional school degree', 71: 'Grade 12', 2: 'No schooling'},\n",
        "    'STATEFIP': {12: 'Florida'},\n",
        "    'CLASSWKR': {22: 'Work for wages', 0: 'Others', 13: 'Self-employed', 25: 'Work for wages', 23: 'Work for wages', 28: 'Work for wages', 27:'Work for wages', 14: 'Self-employed', 26: 'Work for wages', 29: 'Others'},\n",
        "    'MARST': {6: 'Never married', 1: 'Married', 5: 'Others', 4:'Others', 3: 'Others', 2: 'Married'},\n",
        "    'RACE': {100: 'White', 200: 'BAME', 651: 'BAME', 300: 'Others', 802: 'Others', 805: 'Others', 801: 'Others', 652: 'Others', 810: 'Others', 803: 'Others', 804: 'Others', 806: 'Others'}\n",
        "}\n",
        "\n",
        "# Inserting mapping to the dataframe\n",
        "for column, mapping in mappings.items():\n",
        "    if column in raw_ipums_df.columns:\n",
        "        raw_ipums_df[column] = raw_ipums_df[column].map(mapping)\n",
        "\n",
        "# Checking the dataframe\n",
        "print(raw_ipums_df.head())"
      ],
      "metadata": {
        "colab": {
          "base_uri": "https://localhost:8080/"
        },
        "id": "1ODCjQR0SOYQ",
        "outputId": "27937c96-5255-4d5a-a69a-9b052d4e34ba"
      },
      "execution_count": null,
      "outputs": [
        {
          "output_type": "stream",
          "name": "stdout",
          "text": [
            "   YEAR  SERIAL  MONTH STATEFIP  AGE     SEX   RACE          MARST  \\\n",
            "0  2010       1      1      NaN   60  Female  White         Others   \n",
            "1  2010       1      1      NaN   29    Male  White  Never married   \n",
            "2  2010       6      1      NaN   85  Female  White         Others   \n",
            "3  2010       7      1      NaN   52  Female  White         Others   \n",
            "4  2010       7      1      NaN   37    Male  White         Others   \n",
            "\n",
            "      EMPSTAT         LABFORCE           IND        CLASSWKR  UHRSWORK1  \\\n",
            "0    Employed   In labor force           NaN  Work for wages         40   \n",
            "1  Unemployed   In labor force           NaN  Work for wages        999   \n",
            "2  Unemployed  Not labor force           NaN          Others        999   \n",
            "3  Unemployed   In labor force           NaN  Work for wages        999   \n",
            "4  Unemployed   In labor force  Construction  Work for wages        999   \n",
            "\n",
            "                              EDUC  HOURWAGE  \n",
            "0  AC degree, occupational program    999.99  \n",
            "1              High school diploma    999.99  \n",
            "2      AC degree, academic program    999.99  \n",
            "3                Bachelor's degree    999.99  \n",
            "4  AC degree, occupational program    999.99  \n"
          ]
        }
      ]
    },
    {
      "cell_type": "markdown",
      "source": [
        "# Filter on state and industry"
      ],
      "metadata": {
        "id": "ux4AW1Sgyrhn"
      }
    },
    {
      "cell_type": "code",
      "source": [
        "# Filter on STATEFIP - Florida (12)\n",
        "\n",
        "flt_ipums_df = raw_ipums_df[raw_ipums_df[\"STATEFIP\"] == 'Florida']\n",
        "\n",
        "value_counts = flt_ipums_df[\"STATEFIP\"].value_counts()\n",
        "print(value_counts)"
      ],
      "metadata": {
        "colab": {
          "base_uri": "https://localhost:8080/"
        },
        "id": "kdvi5dtAAe3X",
        "outputId": "08164a9d-ef15-4c78-e239-8bfa78c88eb9"
      },
      "execution_count": null,
      "outputs": [
        {
          "output_type": "stream",
          "name": "stdout",
          "text": [
            "Florida    810886\n",
            "Name: STATEFIP, dtype: int64\n"
          ]
        }
      ]
    },
    {
      "cell_type": "code",
      "source": [
        "# Filter on IND - Construction industry (770)\n",
        "\n",
        "flt_ipums_df = flt_ipums_df[flt_ipums_df[\"IND\"] == 'Construction']\n",
        "\n",
        "value_counts = flt_ipums_df[\"IND\"].value_counts()\n",
        "print(value_counts)\n"
      ],
      "metadata": {
        "colab": {
          "base_uri": "https://localhost:8080/"
        },
        "id": "2Lco8N_IFb4S",
        "outputId": "b55cb3e0-855b-48d2-a19c-cb1000ed6021"
      },
      "execution_count": null,
      "outputs": [
        {
          "output_type": "stream",
          "name": "stdout",
          "text": [
            "Construction    30613\n",
            "Name: IND, dtype: int64\n"
          ]
        }
      ]
    },
    {
      "cell_type": "markdown",
      "source": [
        "# Removing unnecessary columns"
      ],
      "metadata": {
        "id": "jULpB-_uyzww"
      }
    },
    {
      "cell_type": "code",
      "source": [
        "# Remove IND - STATEFIP - SERIAL (they are not needed)\n",
        "\n",
        "flt_ipums_df = flt_ipums_df.drop(columns=[\"IND\", \"STATEFIP\", \"SERIAL\", \"HOURWAGE\", 'UHRSWORK1'])\n",
        "print(flt_ipums_df.head())"
      ],
      "metadata": {
        "colab": {
          "base_uri": "https://localhost:8080/"
        },
        "id": "5QYCsPrCNLbw",
        "outputId": "2579c2ab-5510-485b-e36e-c85baf6defb3"
      },
      "execution_count": null,
      "outputs": [
        {
          "output_type": "stream",
          "name": "stdout",
          "text": [
            "     YEAR  MONTH  AGE   SEX   RACE          MARST     EMPSTAT        LABFORCE  \\\n",
            "530  2010      1   29  Male  White  Never married    Employed  In labor force   \n",
            "537  2010      1   55  Male   BAME  Never married  Unemployed  In labor force   \n",
            "538  2010      1   58  Male  White        Married    Employed  In labor force   \n",
            "571  2010      1   44  Male  White         Others    Employed  In labor force   \n",
            "575  2010      1   60  Male  White        Married  Unemployed  In labor force   \n",
            "\n",
            "           CLASSWKR                 EDUC  \n",
            "530  Work for wages    Bachelor's degree  \n",
            "537  Work for wages  High school diploma  \n",
            "538  Work for wages  High school diploma  \n",
            "571  Work for wages         Some college  \n",
            "575  Work for wages  High school diploma  \n"
          ]
        }
      ]
    },
    {
      "cell_type": "markdown",
      "source": [
        "# Adding minimumwage to the dataset"
      ],
      "metadata": {
        "id": "SKg_wNExzOwd"
      }
    },
    {
      "cell_type": "code",
      "source": [
        "# Adding minimumwage\n",
        "\n",
        "#\n",
        "min_wage_data = {\n",
        "    \"YEAR\": [2010, 2011, 2012, 2013, 2014, 2015, 2016, 2017, 2018, 2019, 2020, 2021, 2022],\n",
        "    \"MINIMUM WAGE\": [7.25, 7.25, 7.67, 7.79, 7.93, 8.05, 8.05, 8.10, 8.25, 8.46, 8.56, 10.00, 10.00]\n",
        "}\n",
        "\n",
        "min_wage_df = pd.DataFrame(min_wage_data)\n",
        "\n",
        "# Adding the minimum wage to the excisting dataFrame\n",
        "ipums_df = pd.merge(flt_ipums_df, min_wage_df, on=\"YEAR\", how=\"left\")\n",
        "\n",
        "# Move the 'MINIMUM_WAGE' to the end\n",
        "minimum_wage_col = ipums_df.pop(\"MINIMUM WAGE\")\n",
        "ipums_df.insert(len(ipums_df.columns), \"MINIMUM WAGE\", minimum_wage_col)\n",
        "\n",
        "# Checking the results\n",
        "print(ipums_df)\n",
        "\n",
        "# Check\n",
        "unique_values = ipums_df[[\"YEAR\", \"MINIMUM WAGE\"]].drop_duplicates()\n",
        "\n",
        "# Print the unique value per year\n",
        "for index, row in unique_values.iterrows():\n",
        "    print(f\"YEAR {row['YEAR']} = {row['MINIMUM WAGE']}\")\n",
        "\n"
      ],
      "metadata": {
        "colab": {
          "base_uri": "https://localhost:8080/"
        },
        "id": "chdC5sj5FhCE",
        "outputId": "5be15fa3-51dc-4c80-8289-27bb4f7dfc94"
      },
      "execution_count": null,
      "outputs": [
        {
          "output_type": "stream",
          "name": "stdout",
          "text": [
            "       YEAR  MONTH  AGE     SEX   RACE          MARST     EMPSTAT  \\\n",
            "0      2010      1   29    Male  White  Never married    Employed   \n",
            "1      2010      1   55    Male   BAME  Never married  Unemployed   \n",
            "2      2010      1   58    Male  White        Married    Employed   \n",
            "3      2010      1   44    Male  White         Others    Employed   \n",
            "4      2010      1   60    Male  White        Married  Unemployed   \n",
            "...     ...    ...  ...     ...    ...            ...         ...   \n",
            "30608  2022     12   46    Male  White        Married    Employed   \n",
            "30609  2022     12   20    Male  White  Never married    Employed   \n",
            "30610  2022     12   43  Female  White         Others    Employed   \n",
            "30611  2022     12   63  Female  White        Married    Employed   \n",
            "30612  2022     12   62    Male  White        Married    Employed   \n",
            "\n",
            "             LABFORCE        CLASSWKR                 EDUC  MINIMUM WAGE  \n",
            "0      In labor force  Work for wages    Bachelor's degree          7.25  \n",
            "1      In labor force  Work for wages  High school diploma          7.25  \n",
            "2      In labor force  Work for wages  High school diploma          7.25  \n",
            "3      In labor force  Work for wages         Some college          7.25  \n",
            "4      In labor force  Work for wages  High school diploma          7.25  \n",
            "...               ...             ...                  ...           ...  \n",
            "30608  In labor force  Work for wages             Grade 12         10.00  \n",
            "30609  In labor force  Work for wages  High school diploma         10.00  \n",
            "30610  In labor force  Work for wages             Grade 10         10.00  \n",
            "30611  In labor force  Work for wages  High school diploma         10.00  \n",
            "30612  In labor force  Work for wages  High school diploma         10.00  \n",
            "\n",
            "[30613 rows x 11 columns]\n",
            "YEAR 2010 = 7.25\n",
            "YEAR 2011 = 7.25\n",
            "YEAR 2012 = 7.67\n",
            "YEAR 2013 = 7.79\n",
            "YEAR 2014 = 7.93\n",
            "YEAR 2015 = 8.05\n",
            "YEAR 2016 = 8.05\n",
            "YEAR 2017 = 8.1\n",
            "YEAR 2018 = 8.25\n",
            "YEAR 2019 = 8.46\n",
            "YEAR 2020 = 8.56\n",
            "YEAR 2021 = 10.0\n",
            "YEAR 2022 = 10.0\n"
          ]
        }
      ]
    },
    {
      "cell_type": "code",
      "source": [
        "# Checking features\n",
        "unique_values = ipums_df[\"MARST\"].unique()\n",
        "print(unique_values)\n",
        "\n",
        "value_counts = ipums_df[\"MARST\"].value_counts()\n",
        "print(value_counts)"
      ],
      "metadata": {
        "colab": {
          "base_uri": "https://localhost:8080/"
        },
        "id": "B_bpMwjS44WK",
        "outputId": "85166ffb-3a36-4f9f-d78f-ada506df0ed8"
      },
      "execution_count": null,
      "outputs": [
        {
          "output_type": "stream",
          "name": "stdout",
          "text": [
            "['Never married' 'Married' 'Others']\n",
            "Married          17844\n",
            "Never married     7837\n",
            "Others            4932\n",
            "Name: MARST, dtype: int64\n"
          ]
        }
      ]
    },
    {
      "cell_type": "markdown",
      "source": [
        "# Saving it to csv"
      ],
      "metadata": {
        "id": "WctlQtvkzsLT"
      }
    },
    {
      "cell_type": "code",
      "source": [
        "import pandas as pd\n",
        "\n",
        "df = pd.DataFrame(ipums_df)\n",
        "\n",
        "df.to_csv('/content/drive/MyDrive/Thesis/Voorbereiding/dataset_cps_construction.csv', index=False)\n",
        "\n"
      ],
      "metadata": {
        "id": "maRBDb3EJEZc"
      },
      "execution_count": null,
      "outputs": []
    },
    {
      "cell_type": "markdown",
      "source": [
        "# Cleaning outliers"
      ],
      "metadata": {
        "id": "slxFeFoo1Glt"
      }
    },
    {
      "cell_type": "code",
      "source": [
        "# Data loading\n",
        "dataset = pd.read_csv('/content/drive/MyDrive/Thesis/Voorbereiding/dataset_cps_construction.csv')\n",
        "print(dataset.head())"
      ],
      "metadata": {
        "id": "JbyRQ2PS1Fgk"
      },
      "execution_count": null,
      "outputs": []
    },
    {
      "cell_type": "code",
      "source": [
        "# Remove outliers based on Z-score between -3 and 3\n",
        "\n",
        "numerical_features_outliers = ['AGE']\n",
        "\n",
        "# Identify outliers using Z-score\n",
        "z_scores = stats.zscore(dataset[numerical_features_outliers])\n",
        "outliers = (abs(z_scores) > 3).any(axis=1)\n",
        "\n",
        "print(\"Number of outliers:\", outliers.sum())\n",
        "\n",
        "cleaned_dataset= dataset[~outliers]\n",
        "\n",
        "# Print the cleaned dataset shape for verification\n",
        "print(\"Original dataset shape:\", dataset.shape)\n",
        "print(\"Cleaned dataset shape:\", cleaned_dataset.shape)\n",
        "\n",
        "# Print the cleaned dataset's descriptive statistics\n",
        "print(cleaned_dataset.describe())"
      ],
      "metadata": {
        "id": "JRaFSt2p1M-6"
      },
      "execution_count": null,
      "outputs": []
    },
    {
      "cell_type": "code",
      "source": [
        "cleaned_dataset = cleaned_dataset[cleaned_dataset['CLASSWKR'] != 'Others']"
      ],
      "metadata": {
        "id": "lyr4NfnL1Q46"
      },
      "execution_count": null,
      "outputs": []
    },
    {
      "cell_type": "code",
      "source": [
        "df = pd.DataFrame(cleaned_dataset)\n",
        "\n",
        "df.to_csv('/content/drive/MyDrive/Thesis/Voorbereiding/cleaned_dataset_cps_construction.csv', index=False)\n"
      ],
      "metadata": {
        "id": "3_310Bwr1RoK"
      },
      "execution_count": null,
      "outputs": []
    }
  ]
}