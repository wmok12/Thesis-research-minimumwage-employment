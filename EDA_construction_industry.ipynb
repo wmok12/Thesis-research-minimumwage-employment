{
  "nbformat": 4,
  "nbformat_minor": 0,
  "metadata": {
    "colab": {
      "provenance": [],
      "collapsed_sections": [
        "GWrU5BeDisfG"
      ],
      "mount_file_id": "1ogD4AIJ0jF3L8oUrkIqRRGlTMkzPGzD7",
      "authorship_tag": "ABX9TyOlziEdwZvl7T92syTJy7CM",
      "include_colab_link": true
    },
    "kernelspec": {
      "name": "python3",
      "display_name": "Python 3"
    },
    "language_info": {
      "name": "python"
    }
  },
  "cells": [
    {
      "cell_type": "markdown",
      "metadata": {
        "id": "view-in-github",
        "colab_type": "text"
      },
      "source": [
        "<a href=\"https://colab.research.google.com/github/wmok12/Thesis-research-minimumwage-employment/blob/main/EDA_construction_industry.ipynb\" target=\"_parent\"><img src=\"https://colab.research.google.com/assets/colab-badge.svg\" alt=\"Open In Colab\"/></a>"
      ]
    },
    {
      "cell_type": "markdown",
      "source": [
        "# Packages and loading data"
      ],
      "metadata": {
        "id": "5_0MatMfMkvP"
      }
    },
    {
      "cell_type": "code",
      "source": [
        "import pandas as pd\n",
        "import numpy as np\n",
        "import seaborn as sns\n",
        "import matplotlib.pyplot as plt\n",
        "import scipy.stats as stats"
      ],
      "metadata": {
        "id": "b7fu2ApqQfnt"
      },
      "execution_count": null,
      "outputs": []
    },
    {
      "cell_type": "code",
      "execution_count": null,
      "metadata": {
        "id": "SuC4H8OXOKO8"
      },
      "outputs": [],
      "source": [
        "# Load your dataset\n",
        "dataset = pd.read_csv('/content/drive/MyDrive/Thesis/Voorbereiding/dataset_cps_construction.csv')\n",
        "print(dataset)"
      ]
    },
    {
      "cell_type": "code",
      "source": [
        "# Extract features in datafram\n",
        "features_dataset = pd.DataFrame(dataset.columns.drop(['YEAR', 'MONTH']), columns=['Features'])\n",
        "\n",
        "# Display table\n",
        "print(features_dataset)"
      ],
      "metadata": {
        "id": "0A-gqXucPIP_"
      },
      "execution_count": null,
      "outputs": []
    },
    {
      "cell_type": "markdown",
      "source": [
        "# Statistics"
      ],
      "metadata": {
        "id": "hMzvCgk2MhAu"
      }
    },
    {
      "cell_type": "code",
      "source": [
        "print(dataset['AGE'].describe())\n",
        "print(\"Skewness:\\n\", dataset['AGE'].skew())\n",
        "print(\"Kurtosis:\\n\", dataset['AGE'].kurtosis())\n"
      ],
      "metadata": {
        "id": "i67JEXz5Lhml"
      },
      "execution_count": null,
      "outputs": []
    },
    {
      "cell_type": "code",
      "source": [
        "print(dataset['MINIMUM WAGE'].describe())\n",
        "print(\"Skewness:\\n\", dataset['MINIMUM WAGE'].skew())\n",
        "print(\"Kurtosis:\\n\", dataset['MINIMUM WAGE'].kurtosis())"
      ],
      "metadata": {
        "id": "laGY7mcfPEAa"
      },
      "execution_count": null,
      "outputs": []
    },
    {
      "cell_type": "code",
      "source": [
        "# Chi squared test\n",
        "def perform_chi_square(variable, target):\n",
        "    contingency_table = pd.crosstab(dataset[variable], dataset[target])\n",
        "    chi_squared_statistic, p_value, dof, expected = stats.chi2_contingency(contingency_table)\n",
        "\n",
        "    print(f\"\\nChi-squared test for {variable} vs {target}:\")\n",
        "    print(f\"Chi-squared statistic: {chi_squared_statistic:.2f}\")\n",
        "    print(f\"P-value: {p_value:.4f}\")\n",
        "    print(f\"Degrees of freedom: {dof}\")\n",
        "\n",
        "# The chi-square statistic for each categorical variable compared to the target variable\n",
        "categorical_vars = ['EDUC', 'SEX', 'CLASSWKR', 'MARST', 'RACE', 'LABFORCE']\n",
        "\n",
        "for var in categorical_vars:\n",
        "    perform_chi_square(var, 'EMPSTAT')"
      ],
      "metadata": {
        "id": "oYmvQar-Q1Ge"
      },
      "execution_count": null,
      "outputs": []
    },
    {
      "cell_type": "markdown",
      "source": [
        "# Distribution & outliers"
      ],
      "metadata": {
        "id": "GWrU5BeDisfG"
      }
    },
    {
      "cell_type": "code",
      "source": [
        "# Distribution & outliers age\n",
        "\n",
        "plt.figure(figsize=(10, 5))\n",
        "plt.boxplot(dataset['AGE'])\n",
        "plt.title('Distribution & outliers age', fontsize = 22)\n",
        "plt.xlabel('Age', fontsize = 18)\n",
        "plt.ylabel('Count', fontsize = 18)\n",
        "plt.xticks([])\n",
        "plt.yticks(fontsize=16)\n",
        "plt.show()\n"
      ],
      "metadata": {
        "id": "h45MamMNTiPD"
      },
      "execution_count": null,
      "outputs": []
    },
    {
      "cell_type": "code",
      "source": [
        "# Distribution & outliers Minimum Wage\n",
        "\n",
        "plt.figure(figsize=(10, 5))\n",
        "plt.boxplot(dataset['MINIMUM WAGE'])\n",
        "plt.title('Distribution & Outliers Minimum Wage', fontsize=22)\n",
        "plt.xlabel('Minimum Wage', fontsize=18)\n",
        "plt.ylabel('Count', fontsize=18)\n",
        "plt.xticks([])\n",
        "plt.yticks(fontsize=16)\n",
        "plt.show()\n"
      ],
      "metadata": {
        "id": "Sq9RWpHtEOwY"
      },
      "execution_count": null,
      "outputs": []
    },
    {
      "cell_type": "code",
      "source": [
        "# Countplot Employment status\n",
        "\n",
        "# Plotting\n",
        "plt.figure(figsize=(10, 5))\n",
        "sns.countplot(data=dataset, x='EMPSTAT', color = '#ADD8E6')\n",
        "plt.title('Number of observations per employment status', fontsize = 22)\n",
        "plt.xlabel('Employment status', fontsize = 18)\n",
        "plt.ylabel('Count', fontsize = 18)\n",
        "plt.xticks(fontsize=16)\n",
        "plt.yticks(fontsize=16)\n",
        "plt.grid(axis='y', linestyle='--', alpha=0.5)\n",
        "plt.show()"
      ],
      "metadata": {
        "id": "0o9hDxVzDU7P"
      },
      "execution_count": null,
      "outputs": []
    },
    {
      "cell_type": "code",
      "source": [
        "# Countplot Education\n",
        "\n",
        "# Education counts\n",
        "educ_counts = dataset['EDUC'].value_counts().sort_values(ascending = False)\n",
        "sorted_educ = educ_counts.index\n",
        "\n",
        "# Plotting\n",
        "plt.figure(figsize=(10, 5))\n",
        "sns.countplot(data=dataset, x='EDUC', order = sorted_educ, color = '#ADD8E6')\n",
        "plt.title('Number of observations per educational level', fontsize = 22)\n",
        "plt.xlabel('Education', fontsize = 18)\n",
        "plt.ylabel('Count', fontsize = 18)\n",
        "plt.yticks(fontsize=16)\n",
        "plt.xticks(rotation=45, ha = 'right', fontsize = 16)\n",
        "plt.grid(axis='y', linestyle='--', alpha=0.5)\n",
        "plt.show()\n"
      ],
      "metadata": {
        "id": "M3XbZ5LJFm_5"
      },
      "execution_count": null,
      "outputs": []
    },
    {
      "cell_type": "code",
      "source": [
        "# Countplot Sex\n",
        "\n",
        "# Plotting\n",
        "plt.figure(figsize=(10, 5))\n",
        "sns.countplot(data=dataset, x='SEX', color = '#ADD8E6')  # Gebruik countplot voor categorische data\n",
        "plt.title('Number of observations per gender', fontsize = 22)\n",
        "plt.xlabel('Gender', fontsize = 18)\n",
        "plt.ylabel('Count', fontsize = 18)\n",
        "plt.xticks(fontsize=16)\n",
        "plt.yticks(fontsize=16)\n",
        "plt.grid(axis='y', linestyle='--', alpha=0.5)  # Voeg een grid toe\n",
        "plt.show()"
      ],
      "metadata": {
        "id": "1o9J743ELWrz"
      },
      "execution_count": null,
      "outputs": []
    },
    {
      "cell_type": "code",
      "source": [
        "# Countplot class of worker\n",
        "\n",
        "# Plotting\n",
        "plt.figure(figsize=(10, 5))\n",
        "sns.countplot(data=dataset, x='CLASSWKR', color = '#ADD8E6')  # Gebruik countplot voor categorische data\n",
        "plt.title('Number of observations per class of worker', fontsize = 22)\n",
        "plt.xlabel('Class of worker', fontsize = 18)\n",
        "plt.ylabel('Count', fontsize = 18)\n",
        "plt.xticks(fontsize = 16)\n",
        "plt.yticks(fontsize=16)\n",
        "plt.grid(axis='y', linestyle='--', alpha=0.5)  # Voeg een grid toe\n",
        "plt.show()"
      ],
      "metadata": {
        "id": "79cUzQ18eac8"
      },
      "execution_count": null,
      "outputs": []
    },
    {
      "cell_type": "code",
      "source": [
        "# Countplot Marital Status\n",
        "\n",
        "# Marital status counts\n",
        "marst_counts = dataset['MARST'].value_counts().sort_values(ascending = False)\n",
        "sorted_marst = marst_counts.index\n",
        "\n",
        "# Plotting\n",
        "plt.figure(figsize=(10, 5))\n",
        "sns.countplot(data=dataset, x='MARST', order = sorted_marst, color = '#ADD8E6')  # Gebruik countplot voor categorische data\n",
        "plt.title('Number of observations per marital status', fontsize = 22)\n",
        "plt.xlabel('Marital status', fontsize = 18)\n",
        "plt.ylabel('Count', fontsize =18)\n",
        "plt.xticks(fontsize=16)\n",
        "plt.yticks(fontsize=16)\n",
        "plt.grid(axis='y', linestyle='--', alpha=0.5)  # Voeg een grid toe\n",
        "plt.show()"
      ],
      "metadata": {
        "id": "WbG89kndespK"
      },
      "execution_count": null,
      "outputs": []
    },
    {
      "cell_type": "code",
      "source": [
        "# Countplot race\n",
        "\n",
        "# Plotting\n",
        "plt.figure(figsize=(10, 5))\n",
        "sns.countplot(data=dataset, x='RACE', color = '#ADD8E6')  # Gebruik countplot voor categorische data\n",
        "plt.title('Number of observations per race', fontsize = 22)\n",
        "plt.xlabel('Race', fontsize = 18)\n",
        "plt.ylabel('Count', fontsize=18)\n",
        "plt.xticks(fontsize=16)\n",
        "plt.yticks(fontsize=16)\n",
        "plt.grid(axis='y', linestyle='--', alpha=0.5)  # Voeg een grid toe\n",
        "plt.show()"
      ],
      "metadata": {
        "id": "Y4dtki9Ie7vL"
      },
      "execution_count": null,
      "outputs": []
    },
    {
      "cell_type": "code",
      "source": [
        "# Countplot labor force status\n",
        "\n",
        "# Plotting\n",
        "plt.figure(figsize=(10, 5))\n",
        "sns.countplot(data=dataset, x='LABFORCE', color = '#ADD8E6')  # Gebruik countplot voor categorische data\n",
        "plt.title('Number of observations per labor force status', fontsize = 22)\n",
        "plt.xlabel('Labor force status', fontsize=18)\n",
        "plt.ylabel('Count', fontsize=18)\n",
        "plt.xticks(fontsize=16)\n",
        "plt.yticks(fontsize=16)\n",
        "plt.grid(axis='y', linestyle='--', alpha=0.5)  # Voeg een grid toe\n",
        "plt.show()"
      ],
      "metadata": {
        "id": "cY2vzsQyfGqf"
      },
      "execution_count": null,
      "outputs": []
    }
  ]
}