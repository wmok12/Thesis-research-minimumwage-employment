{
  "nbformat": 4,
  "nbformat_minor": 0,
  "metadata": {
    "colab": {
      "provenance": [],
      "mount_file_id": "113imT530evaVPJiLidufnocfXAdgPCaH",
      "authorship_tag": "ABX9TyMn9VlOdtud6eqzdKnfnNi0",
      "include_colab_link": true
    },
    "kernelspec": {
      "name": "python3",
      "display_name": "Python 3"
    },
    "language_info": {
      "name": "python"
    }
  },
  "cells": [
    {
      "cell_type": "markdown",
      "metadata": {
        "id": "view-in-github",
        "colab_type": "text"
      },
      "source": [
        "<a href=\"https://colab.research.google.com/github/wmok12/Thesis-research-minimumwage-employment/blob/main/Data_Organizing_and_Cleaning_schools_industry.ipynb\" target=\"_parent\"><img src=\"https://colab.research.google.com/assets/colab-badge.svg\" alt=\"Open In Colab\"/></a>"
      ]
    },
    {
      "cell_type": "markdown",
      "source": [
        "# Packages and loading data"
      ],
      "metadata": {
        "id": "izlQJbSix3Dy"
      }
    },
    {
      "cell_type": "code",
      "source": [
        "import pandas as pd\n",
        "import numpy as np\n",
        "from scipy import stats"
      ],
      "metadata": {
        "id": "-sL8r-w7eXQC"
      },
      "execution_count": null,
      "outputs": []
    },
    {
      "cell_type": "code",
      "source": [
        "pip install ipumspy"
      ],
      "metadata": {
        "id": "fMI1NrdYtT81"
      },
      "execution_count": null,
      "outputs": []
    },
    {
      "cell_type": "code",
      "source": [
        "from ipumspy import readers, ddi\n",
        "# Loading data\n",
        "ddi_codebook = readers.read_ipums_ddi(\"/content/drive/MyDrive/Thesis/Voorbereiding/cps_00008.xml\")\n",
        "raw_ipums_df_codes = readers.read_microdata(ddi_codebook, \"/content/drive/MyDrive/Thesis/Voorbereiding/cps_00008.csv.gz\")\n"
      ],
      "metadata": {
        "id": "3wTC4Mhc5bM1"
      },
      "execution_count": null,
      "outputs": []
    },
    {
      "cell_type": "code",
      "source": [
        "import ipumspy\n",
        "print('ipumspy', ipumspy.__version__)"
      ],
      "metadata": {
        "id": "XDYbX5ryEzre"
      },
      "execution_count": null,
      "outputs": []
    },
    {
      "cell_type": "markdown",
      "source": [
        "# Explore data"
      ],
      "metadata": {
        "id": "0w9TER9kyB02"
      }
    },
    {
      "cell_type": "code",
      "source": [
        "print(raw_ipums_df_codes.head())"
      ],
      "metadata": {
        "id": "UJQiIdJoSobJ"
      },
      "execution_count": null,
      "outputs": []
    },
    {
      "cell_type": "code",
      "source": [
        "raw_ipums_df = raw_ipums_df_codes.copy()"
      ],
      "metadata": {
        "id": "yQHVFBcVjDjk"
      },
      "execution_count": null,
      "outputs": []
    },
    {
      "cell_type": "code",
      "source": [
        "# Checking features\n",
        "unique_values = raw_ipums_df[\"RACE\"].unique()\n",
        "print(unique_values)\n",
        "\n",
        "value_counts = raw_ipums_df[\"RACE\"].value_counts()\n",
        "print(value_counts)"
      ],
      "metadata": {
        "id": "F3KMR7xcPn1l"
      },
      "execution_count": null,
      "outputs": []
    },
    {
      "cell_type": "markdown",
      "source": [
        "# Coding variable into words in stead of standard coding from IPUMS CPS"
      ],
      "metadata": {
        "id": "iU_qYd1cyd_B"
      }
    },
    {
      "cell_type": "code",
      "source": [
        "# Mapping, transforming coding into words\n",
        "mappings = {\n",
        "    'SEX': {1: 'Male', 2: 'Female', 9: 'NIU'},\n",
        "    'EMPSTAT': {10: 'Employed', 21: 'Unemployed', 36: 'Unemployed', 32: 'Unemployed', 34: 'Unemployed', 0: 'Others', 12: 'Employed', 1: 'Others', 22: 'Unemployed'},\n",
        "    'LABFORCE': {0: 'Others', 1: 'Not labor force', 2: 'In labor force'},\n",
        "    'IND': {770: 'Construction', 7860: 'Elementary and secondary schools'},\n",
        "    'WKSTAT': {11: 'Full-time', 50: 'Unemployed, seeking for part-time', 99: 'Others', 12: 'Full-time', 41: 'Part-time', 21: 'Full-time', 22: 'Part-time', 60: 'Unemployed, seeking for part-time', 42: 'Part-time', 13 :'Full-time', 15: 'Part-time', 14: 'Part-time'},\n",
        "    'EDUC': {91: 'AC degree, occupational program', 73: 'High school diploma', 92: 'AC degree, academic program', 111: 'Bachelor\\'s degree', 50: 'Grade 10', 60: 'Grade 11', 20: 'Grades 5 or 6', 81: 'Some college', 40: 'Grade 9', 1: 'No schooling', 30: 'Grades 7 or 8', 10: 'Grades 1 t/m 4', 123: 'Master/s degree', 125: 'Doctorate degree', 124: 'Professional school degree', 71: 'Grade 12', 2: 'No schooling'},\n",
        "    'STATEFIP': {12: 'Florida'},\n",
        "    'CLASSWKR': {22: 'Work for wages', 0: 'Others', 13: 'Self-employed', 25: 'Work for wages', 23: 'Work for wages', 28: 'Work for wages', 27:'Work for wages', 14: 'Self-employed', 26: 'Work for wages', 29: 'Others'},\n",
        "    'MARST': {6: 'Never married', 1: 'Married', 5: 'Others', 4:'Others', 3: 'Others', 2: 'Married'},\n",
        "    'RACE': {100: 'White', 200: 'BAME', 651: 'BAME', 300: 'Others', 802: 'Others', 805: 'Others', 801: 'Others', 652: 'Others', 810: 'Others', 803: 'Others', 804: 'Others', 806: 'Others'}\n",
        "}\n",
        "\n",
        "# Inserting mapping to the dataframe\n",
        "for column, mapping in mappings.items():\n",
        "    if column in raw_ipums_df.columns:\n",
        "        raw_ipums_df[column] = raw_ipums_df[column].map(mapping)\n",
        "\n",
        "# Checking the dataframe\n",
        "print(raw_ipums_df.head())"
      ],
      "metadata": {
        "id": "1ODCjQR0SOYQ"
      },
      "execution_count": null,
      "outputs": []
    },
    {
      "cell_type": "markdown",
      "source": [
        "# Filter on state and industry"
      ],
      "metadata": {
        "id": "ux4AW1Sgyrhn"
      }
    },
    {
      "cell_type": "code",
      "source": [
        "# Filter on STATEFIP - Florida (12)\n",
        "\n",
        "flt_ipums_df = raw_ipums_df[raw_ipums_df[\"STATEFIP\"] == 'Florida']\n",
        "\n",
        "value_counts = flt_ipums_df[\"STATEFIP\"].value_counts()\n",
        "print(value_counts)"
      ],
      "metadata": {
        "id": "kdvi5dtAAe3X"
      },
      "execution_count": null,
      "outputs": []
    },
    {
      "cell_type": "code",
      "source": [
        "# Filter on IND - Construction industry (770)\n",
        "\n",
        "flt_ipums_df = flt_ipums_df[flt_ipums_df[\"IND\"] == 'Elementary and secondary schools']\n",
        "\n",
        "value_counts = flt_ipums_df[\"IND\"].value_counts()\n",
        "print(value_counts)\n"
      ],
      "metadata": {
        "id": "2Lco8N_IFb4S"
      },
      "execution_count": null,
      "outputs": []
    },
    {
      "cell_type": "markdown",
      "source": [
        "# Removing unnecessary columns"
      ],
      "metadata": {
        "id": "jULpB-_uyzww"
      }
    },
    {
      "cell_type": "code",
      "source": [
        "# Remove IND - STATEFIP - SERIAL (they are not needed)\n",
        "\n",
        "flt_ipums_df = flt_ipums_df.drop(columns=[\"IND\", \"STATEFIP\", \"SERIAL\", \"HOURWAGE\", 'UHRSWORK1'])\n",
        "print(flt_ipums_df.head())"
      ],
      "metadata": {
        "id": "5QYCsPrCNLbw"
      },
      "execution_count": null,
      "outputs": []
    },
    {
      "cell_type": "markdown",
      "source": [
        "# Adding minimumwage to the dataset"
      ],
      "metadata": {
        "id": "SKg_wNExzOwd"
      }
    },
    {
      "cell_type": "code",
      "source": [
        "# Adding minimumwage\n",
        "\n",
        "#\n",
        "min_wage_data = {\n",
        "    \"YEAR\": [2010, 2011, 2012, 2013, 2014, 2015, 2016, 2017, 2018, 2019, 2020, 2021, 2022],\n",
        "    \"MINIMUM WAGE\": [7.25, 7.25, 7.67, 7.79, 7.93, 8.05, 8.05, 8.10, 8.25, 8.46, 8.56, 10.00, 10.00]\n",
        "}\n",
        "\n",
        "min_wage_df = pd.DataFrame(min_wage_data)\n",
        "\n",
        "# Adding the minimum wage to the excisting dataFrame\n",
        "ipums_df = pd.merge(flt_ipums_df, min_wage_df, on=\"YEAR\", how=\"left\")\n",
        "\n",
        "# Move the 'MINIMUM_WAGE' to the end\n",
        "minimum_wage_col = ipums_df.pop(\"MINIMUM WAGE\")\n",
        "ipums_df.insert(len(ipums_df.columns), \"MINIMUM WAGE\", minimum_wage_col)\n",
        "\n",
        "# Checking the results\n",
        "print(ipums_df)\n",
        "\n",
        "# Check\n",
        "unique_values = ipums_df[[\"YEAR\", \"MINIMUM WAGE\"]].drop_duplicates()\n",
        "\n",
        "# Print the unique value per year\n",
        "for index, row in unique_values.iterrows():\n",
        "    print(f\"YEAR {row['YEAR']} = {row['MINIMUM WAGE']}\")\n",
        "\n"
      ],
      "metadata": {
        "id": "chdC5sj5FhCE"
      },
      "execution_count": null,
      "outputs": []
    },
    {
      "cell_type": "code",
      "source": [
        "# Checking features\n",
        "unique_values = ipums_df[\"CLASSWKR\"].unique()\n",
        "print(unique_values)\n",
        "\n",
        "value_counts = ipums_df[\"CLASSWKR\"].value_counts()\n",
        "print(value_counts)"
      ],
      "metadata": {
        "id": "B_bpMwjS44WK"
      },
      "execution_count": null,
      "outputs": []
    },
    {
      "cell_type": "markdown",
      "source": [
        "# Saving it to csv"
      ],
      "metadata": {
        "id": "WctlQtvkzsLT"
      }
    },
    {
      "cell_type": "code",
      "source": [
        "import pandas as pd\n",
        "\n",
        "df = pd.DataFrame(ipums_df)\n",
        "\n",
        "df.to_csv('/content/drive/MyDrive/Thesis/Voorbereiding/dataset_cps_Elementary and secondary schools.csv', index=False)\n",
        "\n"
      ],
      "metadata": {
        "id": "maRBDb3EJEZc"
      },
      "execution_count": null,
      "outputs": []
    },
    {
      "cell_type": "markdown",
      "source": [
        "# Cleaning outliers"
      ],
      "metadata": {
        "id": "slxFeFoo1Glt"
      }
    },
    {
      "cell_type": "code",
      "source": [
        "# Data loading\n",
        "dataset = pd.read_csv('/content/drive/MyDrive/Thesis/Voorbereiding/dataset_cps_Elementary and secondary schools.csv')\n",
        "print(dataset.head())"
      ],
      "metadata": {
        "id": "JbyRQ2PS1Fgk"
      },
      "execution_count": null,
      "outputs": []
    },
    {
      "cell_type": "code",
      "source": [
        "# Remove outliers based on Z-score between -3 and 3\n",
        "\n",
        "numerical_features_outliers = ['AGE']\n",
        "\n",
        "# Identify outliers using Z-score\n",
        "z_scores = stats.zscore(dataset[numerical_features_outliers])\n",
        "outliers = (abs(z_scores) > 3).any(axis=1)\n",
        "\n",
        "print(\"Number of outliers:\", outliers.sum())\n",
        "\n",
        "cleaned_dataset= dataset[~outliers]\n",
        "\n",
        "# Print the cleaned dataset shape for verification\n",
        "print(\"Original dataset shape:\", dataset.shape)\n",
        "print(\"Cleaned dataset shape:\", cleaned_dataset.shape)\n",
        "\n",
        "# Print the cleaned dataset's descriptive statistics\n",
        "print(cleaned_dataset.describe())"
      ],
      "metadata": {
        "id": "JRaFSt2p1M-6"
      },
      "execution_count": null,
      "outputs": []
    },
    {
      "cell_type": "code",
      "source": [
        "cleaned_dataset = cleaned_dataset[cleaned_dataset['CLASSWKR'] != 'Others']"
      ],
      "metadata": {
        "id": "lyr4NfnL1Q46"
      },
      "execution_count": null,
      "outputs": []
    },
    {
      "cell_type": "code",
      "source": [
        "df = pd.DataFrame(cleaned_dataset)\n",
        "\n",
        "df.to_csv('/content/drive/MyDrive/Thesis/Voorbereiding/cleaned_dataset_cps_Elementary and secondary schools.csv', index=False)\n"
      ],
      "metadata": {
        "id": "3_310Bwr1RoK"
      },
      "execution_count": null,
      "outputs": []
    }
  ]
}