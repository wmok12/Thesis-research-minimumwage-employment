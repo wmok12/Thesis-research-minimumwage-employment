{
  "cells": [
    {
      "cell_type": "markdown",
      "metadata": {
        "id": "view-in-github",
        "colab_type": "text"
      },
      "source": [
        "<a href=\"https://colab.research.google.com/github/wmok12/Thesis-research-minimumwage-employment/blob/main/Model_coding_construction_industry.ipynb\" target=\"_parent\"><img src=\"https://colab.research.google.com/assets/colab-badge.svg\" alt=\"Open In Colab\"/></a>"
      ]
    },
    {
      "cell_type": "markdown",
      "metadata": {
        "id": "qwROSlKcaWDT"
      },
      "source": [
        "# Loading packages and data"
      ]
    },
    {
      "cell_type": "code",
      "source": [
        "pip install lime\n"
      ],
      "metadata": {
        "colab": {
          "base_uri": "https://localhost:8080/"
        },
        "id": "n_wXdbjIHgtT",
        "outputId": "1c193b56-f3ba-4e6d-c041-91a8a6c10051"
      },
      "execution_count": 18,
      "outputs": [
        {
          "output_type": "stream",
          "name": "stdout",
          "text": [
            "Collecting lime\n",
            "  Downloading lime-0.2.0.1.tar.gz (275 kB)\n",
            "\u001b[?25l     \u001b[90m━━━━━━━━━━━━━━━━━━━━━━━━━━━━━━━━━━━━━━━━\u001b[0m \u001b[32m0.0/275.7 kB\u001b[0m \u001b[31m?\u001b[0m eta \u001b[36m-:--:--\u001b[0m\r\u001b[2K     \u001b[91m━━━━━━━━━━━━━━━━━━━━━━━━━━━━━━━━\u001b[0m\u001b[91m╸\u001b[0m\u001b[90m━━━━━━━\u001b[0m \u001b[32m225.3/275.7 kB\u001b[0m \u001b[31m6.6 MB/s\u001b[0m eta \u001b[36m0:00:01\u001b[0m\r\u001b[2K     \u001b[90m━━━━━━━━━━━━━━━━━━━━━━━━━━━━━━━━━━━━━━━━\u001b[0m \u001b[32m275.7/275.7 kB\u001b[0m \u001b[31m5.1 MB/s\u001b[0m eta \u001b[36m0:00:00\u001b[0m\n",
            "\u001b[?25h  Preparing metadata (setup.py) ... \u001b[?25l\u001b[?25hdone\n",
            "Requirement already satisfied: matplotlib in /usr/local/lib/python3.10/dist-packages (from lime) (3.8.0)\n",
            "Requirement already satisfied: numpy in /usr/local/lib/python3.10/dist-packages (from lime) (1.26.4)\n",
            "Requirement already satisfied: scipy in /usr/local/lib/python3.10/dist-packages (from lime) (1.13.1)\n",
            "Requirement already satisfied: tqdm in /usr/local/lib/python3.10/dist-packages (from lime) (4.66.6)\n",
            "Requirement already satisfied: scikit-learn>=0.18 in /usr/local/lib/python3.10/dist-packages (from lime) (1.5.2)\n",
            "Requirement already satisfied: scikit-image>=0.12 in /usr/local/lib/python3.10/dist-packages (from lime) (0.24.0)\n",
            "Requirement already satisfied: networkx>=2.8 in /usr/local/lib/python3.10/dist-packages (from scikit-image>=0.12->lime) (3.4.2)\n",
            "Requirement already satisfied: pillow>=9.1 in /usr/local/lib/python3.10/dist-packages (from scikit-image>=0.12->lime) (11.0.0)\n",
            "Requirement already satisfied: imageio>=2.33 in /usr/local/lib/python3.10/dist-packages (from scikit-image>=0.12->lime) (2.36.0)\n",
            "Requirement already satisfied: tifffile>=2022.8.12 in /usr/local/lib/python3.10/dist-packages (from scikit-image>=0.12->lime) (2024.9.20)\n",
            "Requirement already satisfied: packaging>=21 in /usr/local/lib/python3.10/dist-packages (from scikit-image>=0.12->lime) (24.2)\n",
            "Requirement already satisfied: lazy-loader>=0.4 in /usr/local/lib/python3.10/dist-packages (from scikit-image>=0.12->lime) (0.4)\n",
            "Requirement already satisfied: joblib>=1.2.0 in /usr/local/lib/python3.10/dist-packages (from scikit-learn>=0.18->lime) (1.4.2)\n",
            "Requirement already satisfied: threadpoolctl>=3.1.0 in /usr/local/lib/python3.10/dist-packages (from scikit-learn>=0.18->lime) (3.5.0)\n",
            "Requirement already satisfied: contourpy>=1.0.1 in /usr/local/lib/python3.10/dist-packages (from matplotlib->lime) (1.3.1)\n",
            "Requirement already satisfied: cycler>=0.10 in /usr/local/lib/python3.10/dist-packages (from matplotlib->lime) (0.12.1)\n",
            "Requirement already satisfied: fonttools>=4.22.0 in /usr/local/lib/python3.10/dist-packages (from matplotlib->lime) (4.55.0)\n",
            "Requirement already satisfied: kiwisolver>=1.0.1 in /usr/local/lib/python3.10/dist-packages (from matplotlib->lime) (1.4.7)\n",
            "Requirement already satisfied: pyparsing>=2.3.1 in /usr/local/lib/python3.10/dist-packages (from matplotlib->lime) (3.2.0)\n",
            "Requirement already satisfied: python-dateutil>=2.7 in /usr/local/lib/python3.10/dist-packages (from matplotlib->lime) (2.8.2)\n",
            "Requirement already satisfied: six>=1.5 in /usr/local/lib/python3.10/dist-packages (from python-dateutil>=2.7->matplotlib->lime) (1.16.0)\n",
            "Building wheels for collected packages: lime\n",
            "  Building wheel for lime (setup.py) ... \u001b[?25l\u001b[?25hdone\n",
            "  Created wheel for lime: filename=lime-0.2.0.1-py3-none-any.whl size=283834 sha256=c3b8e27746fb7714975a6230c57a0c0a58473fccaa31fc00d04cd10c903fadae\n",
            "  Stored in directory: /root/.cache/pip/wheels/fd/a2/af/9ac0a1a85a27f314a06b39e1f492bee1547d52549a4606ed89\n",
            "Successfully built lime\n",
            "Installing collected packages: lime\n",
            "Successfully installed lime-0.2.0.1\n"
          ]
        }
      ]
    },
    {
      "cell_type": "code",
      "execution_count": 35,
      "metadata": {
        "id": "3PxejXy4YnYQ"
      },
      "outputs": [],
      "source": [
        "import pandas as pd\n",
        "import numpy as np\n",
        "\n",
        "from sklearn.compose import ColumnTransformer\n",
        "from sklearn.ensemble import RandomForestClassifier\n",
        "from sklearn.feature_selection import SelectKBest, chi2, mutual_info_classif, RFE\n",
        "from sklearn.linear_model import LogisticRegression\n",
        "from sklearn.metrics import classification_report, confusion_matrix, mean_squared_error, mean_absolute_error, r2_score, make_scorer, accuracy_score, precision_score, recall_score, f1_score, confusion_matrix, ConfusionMatrixDisplay\n",
        "from sklearn.model_selection import train_test_split, GridSearchCV, KFold, RandomizedSearchCV, ParameterGrid\n",
        "from sklearn.multiclass import OneVsRestClassifier\n",
        "from sklearn.preprocessing import StandardScaler, OneHotEncoder, OrdinalEncoder, MinMaxScaler, LabelEncoder\n",
        "from sklearn.pipeline import Pipeline\n",
        "\n",
        "from imblearn.over_sampling import SMOTE\n",
        "from imblearn.pipeline import Pipeline as ImbPipeline\n",
        "\n",
        "from xgboost import XGBClassifier\n",
        "\n",
        "import matplotlib.pyplot as plt\n",
        "\n",
        "import seaborn as sns\n",
        "\n",
        "import shap\n",
        "\n",
        "import lime\n",
        "from lime.lime_tabular import LimeTabularExplainer\n"
      ]
    },
    {
      "cell_type": "code",
      "execution_count": 2,
      "metadata": {
        "id": "2pCF2Ch5aiQV"
      },
      "outputs": [],
      "source": [
        "# Loading data\n",
        "dataset = pd.read_csv('/content/drive/MyDrive/Thesis/Voorbereiding/cleaned_dataset_cps_construction.csv')"
      ]
    },
    {
      "cell_type": "markdown",
      "source": [
        "# Reference used libraries"
      ],
      "metadata": {
        "id": "7efylTrzDU5b"
      }
    },
    {
      "cell_type": "code",
      "source": [
        "import numpy\n",
        "print('numpy:',numpy.__version__)\n",
        "\n",
        "import pandas\n",
        "print('pandas:', pandas.__version__)\n",
        "\n",
        "import sklearn\n",
        "print('sklearn:', sklearn.__version__)\n",
        "\n",
        "import imblearn\n",
        "print('imblearn', imblearn.__version__)\n",
        "\n",
        "import xgboost\n",
        "print('xgboost', xgboost.__version__)\n",
        "\n",
        "import matplotlib\n",
        "print('matplotlib', matplotlib.__version__)\n",
        "\n",
        "import seaborn\n",
        "print('seaborn', seaborn.__version__)\n",
        "\n",
        "import scipy\n",
        "print('scipy', scipy.__version__)\n",
        "\n",
        "import lime\n",
        "import shap\n"
      ],
      "metadata": {
        "colab": {
          "base_uri": "https://localhost:8080/",
          "height": 345
        },
        "id": "jlTOpcNmDTn8",
        "outputId": "1497c4e3-edac-4896-9707-45a1d09f9bb6"
      },
      "execution_count": 39,
      "outputs": [
        {
          "output_type": "stream",
          "name": "stdout",
          "text": [
            "numpy: 1.26.4\n",
            "pandas: 2.2.2\n",
            "sklearn: 1.5.2\n",
            "imblearn 0.12.4\n",
            "xgboost 2.1.2\n",
            "matplotlib 3.8.0\n",
            "seaborn 0.13.2\n",
            "scipy 1.13.1\n"
          ]
        },
        {
          "output_type": "error",
          "ename": "AttributeError",
          "evalue": "module 'lime' has no attribute '__version__'",
          "traceback": [
            "\u001b[0;31m---------------------------------------------------------------------------\u001b[0m",
            "\u001b[0;31mAttributeError\u001b[0m                            Traceback (most recent call last)",
            "\u001b[0;32m<ipython-input-39-8fd9a6ada671>\u001b[0m in \u001b[0;36m<cell line: 28>\u001b[0;34m()\u001b[0m\n\u001b[1;32m     26\u001b[0m \u001b[0;32mimport\u001b[0m \u001b[0mshap\u001b[0m\u001b[0;34m\u001b[0m\u001b[0;34m\u001b[0m\u001b[0m\n\u001b[1;32m     27\u001b[0m \u001b[0;34m\u001b[0m\u001b[0m\n\u001b[0;32m---> 28\u001b[0;31m \u001b[0mprint\u001b[0m\u001b[0;34m(\u001b[0m\u001b[0;34m\"LIME version:\"\u001b[0m\u001b[0;34m,\u001b[0m \u001b[0mlime\u001b[0m\u001b[0;34m.\u001b[0m\u001b[0m__version__\u001b[0m\u001b[0;34m)\u001b[0m\u001b[0;34m\u001b[0m\u001b[0;34m\u001b[0m\u001b[0m\n\u001b[0m\u001b[1;32m     29\u001b[0m \u001b[0mprint\u001b[0m\u001b[0;34m(\u001b[0m\u001b[0;34m\"SHAP version:\"\u001b[0m\u001b[0;34m,\u001b[0m \u001b[0mshap\u001b[0m\u001b[0;34m.\u001b[0m\u001b[0m__version__\u001b[0m\u001b[0;34m)\u001b[0m\u001b[0;34m\u001b[0m\u001b[0;34m\u001b[0m\u001b[0m\n",
            "\u001b[0;31mAttributeError\u001b[0m: module 'lime' has no attribute '__version__'"
          ]
        }
      ]
    },
    {
      "cell_type": "code",
      "source": [
        "!pip show lime\n",
        "!pip show shap\n"
      ],
      "metadata": {
        "colab": {
          "base_uri": "https://localhost:8080/"
        },
        "id": "W4Zem3ZBQPW7",
        "outputId": "bc1ddbcd-4209-49a5-872d-715715ffd50a"
      },
      "execution_count": 40,
      "outputs": [
        {
          "output_type": "stream",
          "name": "stdout",
          "text": [
            "Name: lime\n",
            "Version: 0.2.0.1\n",
            "Summary: Local Interpretable Model-Agnostic Explanations for machine learning classifiers\n",
            "Home-page: http://github.com/marcotcr/lime\n",
            "Author: Marco Tulio Ribeiro\n",
            "Author-email: marcotcr@gmail.com\n",
            "License: BSD\n",
            "Location: /usr/local/lib/python3.10/dist-packages\n",
            "Requires: matplotlib, numpy, scikit-image, scikit-learn, scipy, tqdm\n",
            "Required-by: \n",
            "Name: shap\n",
            "Version: 0.46.0\n",
            "Summary: A unified approach to explain the output of any machine learning model.\n",
            "Home-page: \n",
            "Author: \n",
            "Author-email: Scott Lundberg <slund1@cs.washington.edu>\n",
            "License: MIT License\n",
            "Location: /usr/local/lib/python3.10/dist-packages\n",
            "Requires: cloudpickle, numba, numpy, packaging, pandas, scikit-learn, scipy, slicer, tqdm\n",
            "Required-by: \n"
          ]
        }
      ]
    },
    {
      "cell_type": "markdown",
      "metadata": {
        "id": "R8HMm0AtawDi"
      },
      "source": [
        "# Data pre-processing"
      ]
    },
    {
      "cell_type": "code",
      "execution_count": 4,
      "metadata": {
        "id": "6-ZKq7E2a2RC"
      },
      "outputs": [],
      "source": [
        "# Binary values\n",
        "dataset['LABFORCE_binary'] = dataset['LABFORCE'].map({'In labor force': 1, 'Not labor force': 0})\n",
        "dataset['SEX_binary'] = dataset['SEX'].map({'Male': 1, 'Female': 0})\n",
        "dataset['CLASSWKR_binary'] = dataset['CLASSWKR'].map({'Self-employed': 1, 'Work for wages': 0})\n",
        "dataset['EMPSTAT_binary'] = dataset['EMPSTAT'].map({'Unemployed': 1, 'Employed': 0})\n",
        "\n",
        "# Split the dataset in X and y\n",
        "X = dataset[['AGE', 'SEX_binary', 'MINIMUM WAGE', 'EDUC', 'CLASSWKR_binary', 'MARST', 'RACE', 'LABFORCE_binary']]\n",
        "y = dataset['EMPSTAT_binary']\n",
        "\n",
        "# Preprocessing\n",
        "numerical_features = ['AGE','MINIMUM WAGE']\n",
        "numerical_transformer = StandardScaler()\n",
        "\n",
        "binary_features = ['SEX_binary', 'CLASSWKR_binary', 'LABFORCE_binary']\n",
        "\n",
        "categorical_features_encode = ['MARST', 'RACE']\n",
        "categorical_transformer_encode = OneHotEncoder(handle_unknown='ignore')\n",
        "\n",
        "education_order = [['No schooling', 'Grades 1 t/m 4', 'Grades 5 or 6', 'Grades 7 or 8', 'Grade 9', 'Grade 10', 'Grade 11', 'Grade 12', 'High school diploma','Some college',  'AC degree, occupational program', 'AC degree, academic program', 'Bachelor\\'s degree', 'Master/s degree', 'Professional school degree', 'Doctorate degree']]\n",
        "categorical_features_label = ['EDUC']\n",
        "categorical_transformer_label = OrdinalEncoder(categories = education_order)\n",
        "\n",
        "preprocessor = ColumnTransformer(transformers=[\n",
        "    ('cat_encode', categorical_transformer_encode, categorical_features_encode),\n",
        "    ('cat_label', categorical_transformer_label, categorical_features_label),\n",
        "    ('binary', 'passthrough', binary_features),\n",
        "    ('num', numerical_transformer, numerical_features)\n",
        "])\n",
        "\n",
        "X = preprocessor.fit_transform(X)\n",
        "\n",
        "# Get the feature names after preprocessing\n",
        "feature_names = preprocessor.get_feature_names_out()\n",
        "\n",
        "# Convert the transformed data back to DataFrames with proper feature names\n",
        "X = pd.DataFrame(X, columns=feature_names)\n",
        "\n",
        "# Split data into 80% training/validation data and 20% testing data\n",
        "X_train_val, X_test, y_train_val, y_test = train_test_split(X, y, test_size = 0.2, random_state = 42)\n",
        "\n",
        "# Split data the training/validation data into 60% training data and 20% into validation data\n",
        "X_train, X_val, y_train, y_val = train_test_split(X_train_val, y_train_val, test_size = 0.2, random_state = 42)\n"
      ]
    },
    {
      "cell_type": "markdown",
      "metadata": {
        "id": "DAoXceV9bG3p"
      },
      "source": [
        "# Logistic Regression (baseline) - addressing class imbalance"
      ]
    },
    {
      "cell_type": "code",
      "execution_count": 5,
      "metadata": {
        "colab": {
          "base_uri": "https://localhost:8080/"
        },
        "id": "eYQKbl2kHg2F",
        "outputId": "7ebdcb65-cdef-474e-d448-f00485b9b75b"
      },
      "outputs": [
        {
          "output_type": "stream",
          "name": "stdout",
          "text": [
            "Fitting 5 folds for each of 16 candidates, totalling 80 fits\n"
          ]
        },
        {
          "output_type": "stream",
          "name": "stderr",
          "text": [
            "/usr/local/lib/python3.10/dist-packages/sklearn/model_selection/_validation.py:540: FitFailedWarning: \n",
            "20 fits failed out of a total of 80.\n",
            "The score on these train-test partitions for these parameters will be set to nan.\n",
            "If these failures are not expected, you can try to debug them by setting error_score='raise'.\n",
            "\n",
            "Below are more details about the failures:\n",
            "--------------------------------------------------------------------------------\n",
            "20 fits failed with the following error:\n",
            "Traceback (most recent call last):\n",
            "  File \"/usr/local/lib/python3.10/dist-packages/sklearn/model_selection/_validation.py\", line 888, in _fit_and_score\n",
            "    estimator.fit(X_train, y_train, **fit_params)\n",
            "  File \"/usr/local/lib/python3.10/dist-packages/sklearn/base.py\", line 1473, in wrapper\n",
            "    return fit_method(estimator, *args, **kwargs)\n",
            "  File \"/usr/local/lib/python3.10/dist-packages/imblearn/pipeline.py\", line 333, in fit\n",
            "    self._final_estimator.fit(Xt, yt, **last_step_params[\"fit\"])\n",
            "  File \"/usr/local/lib/python3.10/dist-packages/sklearn/base.py\", line 1473, in wrapper\n",
            "    return fit_method(estimator, *args, **kwargs)\n",
            "  File \"/usr/local/lib/python3.10/dist-packages/sklearn/linear_model/_logistic.py\", line 1194, in fit\n",
            "    solver = _check_solver(self.solver, self.penalty, self.dual)\n",
            "  File \"/usr/local/lib/python3.10/dist-packages/sklearn/linear_model/_logistic.py\", line 67, in _check_solver\n",
            "    raise ValueError(\n",
            "ValueError: Solver lbfgs supports only 'l2' or None penalties, got elasticnet penalty.\n",
            "\n",
            "  warnings.warn(some_fits_failed_message, FitFailedWarning)\n",
            "/usr/local/lib/python3.10/dist-packages/sklearn/model_selection/_search.py:1103: UserWarning: One or more of the test scores are non-finite: [0.92061582 0.92061582        nan 0.92061582 0.92061582 0.92061582\n",
            "        nan 0.92061582 0.92061582 0.92061582        nan 0.92061582\n",
            " 0.92061582 0.92061582        nan 0.92061582]\n",
            "  warnings.warn(\n",
            "/usr/local/lib/python3.10/dist-packages/sklearn/model_selection/_search.py:1103: UserWarning: One or more of the test scores are non-finite: [ 1.  1. nan  1.  1.  1. nan  1.  1.  1. nan  1.  1.  1. nan  1.]\n",
            "  warnings.warn(\n",
            "/usr/local/lib/python3.10/dist-packages/sklearn/model_selection/_search.py:1103: UserWarning: One or more of the test scores are non-finite: [0.082042 0.082042      nan 0.082042 0.082042 0.082042      nan 0.082042\n",
            " 0.082042 0.082042      nan 0.082042 0.082042 0.082042      nan 0.082042]\n",
            "  warnings.warn(\n",
            "/usr/local/lib/python3.10/dist-packages/sklearn/model_selection/_search.py:1103: UserWarning: One or more of the test scores are non-finite: [0.88859957 0.88859957        nan 0.88859957 0.88859957 0.88859957\n",
            "        nan 0.88859957 0.88859957 0.88859957        nan 0.88859957\n",
            " 0.88859957 0.88859957        nan 0.88859957]\n",
            "  warnings.warn(\n"
          ]
        },
        {
          "output_type": "stream",
          "name": "stdout",
          "text": [
            "Beste hyperparameters en scores per fold:\n",
            "fold1:\n",
            "  Best Hyperparameters: {'param_classifier__C': 0.1, 'param_classifier__class_weight': {0: 1, 1: 2}, 'param_classifier__l1_ratio': 0.5, 'param_classifier__penalty': 'l2', 'param_classifier__solver': 'lbfgs'}\n",
            "  Best Score: 0.8980\n",
            "fold2:\n",
            "  Best Hyperparameters: {'param_classifier__C': 0.1, 'param_classifier__class_weight': {0: 1, 1: 2}, 'param_classifier__l1_ratio': 0.5, 'param_classifier__penalty': 'l2', 'param_classifier__solver': 'lbfgs'}\n",
            "  Best Score: 0.8848\n",
            "fold3:\n",
            "  Best Hyperparameters: {'param_classifier__C': 0.1, 'param_classifier__class_weight': {0: 1, 1: 2}, 'param_classifier__l1_ratio': 0.5, 'param_classifier__penalty': 'l2', 'param_classifier__solver': 'lbfgs'}\n",
            "  Best Score: 0.8935\n",
            "fold4:\n",
            "  Best Hyperparameters: {'param_classifier__C': 0.1, 'param_classifier__class_weight': {0: 1, 1: 2}, 'param_classifier__l1_ratio': 0.5, 'param_classifier__penalty': 'l2', 'param_classifier__solver': 'lbfgs'}\n",
            "  Best Score: 0.8830\n",
            "fold5:\n",
            "  Best Hyperparameters: {'param_classifier__C': 0.1, 'param_classifier__class_weight': {0: 1, 1: 2}, 'param_classifier__l1_ratio': 0.5, 'param_classifier__penalty': 'l2', 'param_classifier__solver': 'lbfgs'}\n",
            "  Best Score: 0.8837\n",
            "Best hyperparameters: {'classifier__C': 0.1, 'classifier__class_weight': {0: 1, 1: 2}, 'classifier__l1_ratio': 0.5, 'classifier__penalty': 'l2', 'classifier__solver': 'lbfgs'}\n",
            "Best accuracy: 0.8885995718906429\n",
            "Best precision: 1.0\n",
            "Best recall: 0.08204199751928967\n",
            "Best F1-score: 0.8885995718906429\n",
            "Classification report for Training data - LR\n",
            "              precision    recall  f1-score   support\n",
            "\n",
            "           0       0.92      1.00      0.96     17848\n",
            "           1       1.00      0.08      0.15      1690\n",
            "\n",
            "    accuracy                           0.92     19538\n",
            "   macro avg       0.96      0.54      0.56     19538\n",
            "weighted avg       0.93      0.92      0.89     19538\n",
            "\n",
            "Classification report for validation data - LR\n",
            "              precision    recall  f1-score   support\n",
            "\n",
            "           0       0.92      1.00      0.96      4464\n",
            "           1       1.00      0.08      0.15       421\n",
            "\n",
            "    accuracy                           0.92      4885\n",
            "   macro avg       0.96      0.54      0.55      4885\n",
            "weighted avg       0.93      0.92      0.89      4885\n",
            "\n",
            "Classification report for testing data - LR\n",
            "              precision    recall  f1-score   support\n",
            "\n",
            "           0       0.91      1.00      0.95      5525\n",
            "           1       1.00      0.07      0.14       581\n",
            "\n",
            "    accuracy                           0.91      6106\n",
            "   macro avg       0.96      0.54      0.55      6106\n",
            "weighted avg       0.92      0.91      0.88      6106\n",
            "\n"
          ]
        },
        {
          "output_type": "stream",
          "name": "stderr",
          "text": [
            "/usr/local/lib/python3.10/dist-packages/sklearn/linear_model/_logistic.py:1197: UserWarning: l1_ratio parameter is only used when penalty is 'elasticnet'. Got (penalty=l2)\n",
            "  warnings.warn(\n"
          ]
        }
      ],
      "source": [
        "# RFE selector based on EDA\n",
        "rfe_lr = RFE(estimator=LogisticRegression(max_iter=10000, random_state=42), n_features_to_select=2)\n",
        "\n",
        "# Logistic regression pipeline\n",
        "lr_model = ImbPipeline(steps=[\n",
        "    ('feature_selection', rfe_lr),\n",
        "    ('classifier', LogisticRegression(max_iter=10000, random_state=42))\n",
        "])\n",
        "\n",
        "# Setting parameters\n",
        "lr_param_grid = {\n",
        "    'classifier__solver': ['lbfgs', 'saga'],\n",
        "    'classifier__penalty': ['l2', 'elasticnet'],\n",
        "    'classifier__C': [0.1, 1],\n",
        "    'classifier__class_weight': [\n",
        "        {0: 1, 1: 2},\n",
        "        {0: 1, 1: 3}\n",
        "    ],\n",
        "    'classifier__l1_ratio': [0.5]\n",
        "}\n",
        "\n",
        "# Filtering invalid parameter combinations\n",
        "valid_params = []\n",
        "for params in ParameterGrid(lr_param_grid):\n",
        "    if params['classifier__penalty'] == 'elasticnet' and params['classifier__solver'] != 'saga':\n",
        "        continue\n",
        "    if params['classifier__penalty'] != 'elasticnet' and 'classifier__l1_ratio' in params:\n",
        "        continue\n",
        "    valid_params.append(params)\n",
        "\n",
        "# K-Fold Cross-Validation\n",
        "kf_cv = KFold(n_splits=5, shuffle=True, random_state=42)\n",
        "\n",
        "# Scoring with weighted F1\n",
        "scoring = {\n",
        "    'accuracy': make_scorer(accuracy_score),\n",
        "    'precision': make_scorer(precision_score, pos_label=1),\n",
        "    'recall': make_scorer(recall_score, pos_label=1),\n",
        "    'f1_weighted': make_scorer(f1_score, average='weighted')\n",
        "}\n",
        "\n",
        "# GridSearchCV\n",
        "lr_grid_search = GridSearchCV(\n",
        "    estimator=lr_model,\n",
        "    param_grid=lr_param_grid,\n",
        "    cv=kf_cv,\n",
        "    scoring=scoring,\n",
        "    refit='f1_weighted',\n",
        "    n_jobs=-1,\n",
        "    verbose=3\n",
        ")\n",
        "\n",
        "# Train the model on the training data using GridSearchCV\n",
        "lr_grid_search.fit(X_train, y_train)\n",
        "\n",
        "#-------------------------------------------------------------------------------\n",
        "# Results per fold\n",
        "cv_results = pd.DataFrame(lr_grid_search.cv_results_)\n",
        "\n",
        "# Columns for per fold scores\n",
        "fold_columns = [col for col in cv_results.columns if \"split\" in col and \"test_f1_weighted\" in col]\n",
        "\n",
        "# Best hyperparameters and scores per fold\n",
        "best_params_per_fold = {}\n",
        "for i, fold_col in enumerate(fold_columns):\n",
        "    best_index = cv_results[fold_col].idxmax()\n",
        "    best_params_per_fold[f\"fold{i+1}\"] = {\n",
        "        \"best_params\": {param: cv_results.loc[best_index, param] for param in cv_results.columns if param.startswith(\"param_\")},\n",
        "        \"best_score\": cv_results.loc[best_index, fold_col]\n",
        "    }\n",
        "\n",
        "# Display the  best hyperparameters and scores per fold\n",
        "print(\"Beste hyperparameters en scores per fold:\")\n",
        "for fold, result in best_params_per_fold.items():\n",
        "    print(f\"{fold}:\")\n",
        "    print(f\"  Best Hyperparameters: {result['best_params']}\")\n",
        "    print(f\"  Best Score: {result['best_score']:.4f}\")\n",
        "\n",
        "# Show the best final hyperparameters and score\n",
        "print(\"Best hyperparameters:\", lr_grid_search.best_params_)\n",
        "print(\"Best accuracy:\", lr_grid_search.best_score_)\n",
        "print(\"Best precision:\", lr_grid_search.cv_results_['mean_test_precision'][lr_grid_search.best_index_])\n",
        "print(\"Best recall:\", lr_grid_search.cv_results_['mean_test_recall'][lr_grid_search.best_index_])\n",
        "print(\"Best F1-score:\", lr_grid_search.cv_results_['mean_test_f1_weighted'][lr_grid_search.best_index_])\n",
        "\n",
        "#-------------------------------------------------------------------------------\n",
        "# Training data\n",
        "# Make prediction on training data\n",
        "lr_y_pred_train = lr_grid_search.best_estimator_.predict(X_train)\n",
        "\n",
        "# Classification report for validation data\n",
        "print(\"Classification report for Training data - LR\")\n",
        "print(classification_report(y_train, lr_y_pred_train))\n",
        "\n",
        "# Validation data\n",
        "# Make prediction on validation data\n",
        "lr_y_pred_val = lr_grid_search.best_estimator_.predict(X_val)\n",
        "\n",
        "# Classification report for validation data\n",
        "print(\"Classification report for validation data - LR\")\n",
        "print(classification_report(y_val, lr_y_pred_val))\n",
        "\n",
        "# Testing data\n",
        "# Make prediction on testing data\n",
        "lr_y_pred_test = lr_grid_search.best_estimator_.predict(X_test)\n",
        "\n",
        "# Classification report for testing data\n",
        "print(\"Classification report for testing data - LR\")\n",
        "print(classification_report(y_test, lr_y_pred_test))"
      ]
    },
    {
      "cell_type": "markdown",
      "metadata": {
        "id": "n_AcdT9-ji_S"
      },
      "source": [
        "# Random Forest - no hyperparameter tuning"
      ]
    },
    {
      "cell_type": "code",
      "execution_count": 6,
      "metadata": {
        "colab": {
          "base_uri": "https://localhost:8080/"
        },
        "id": "xanKcM8tjhou",
        "outputId": "1a5403c6-ff67-4d26-db22-78474f65f46c"
      },
      "outputs": [
        {
          "output_type": "stream",
          "name": "stdout",
          "text": [
            "Classification report for validation data - RF\n",
            "              precision    recall  f1-score   support\n",
            "\n",
            "           0       0.94      0.98      0.96      4464\n",
            "           1       0.63      0.39      0.48       421\n",
            "\n",
            "    accuracy                           0.93      4885\n",
            "   macro avg       0.79      0.68      0.72      4885\n",
            "weighted avg       0.92      0.93      0.92      4885\n",
            "\n",
            "Classification report for testing data - RF\n",
            "              precision    recall  f1-score   support\n",
            "\n",
            "           0       0.94      0.98      0.96      5525\n",
            "           1       0.67      0.40      0.50       581\n",
            "\n",
            "    accuracy                           0.92      6106\n",
            "   macro avg       0.80      0.69      0.73      6106\n",
            "weighted avg       0.91      0.92      0.92      6106\n",
            "\n"
          ]
        }
      ],
      "source": [
        "from sklearn.metrics import make_scorer, accuracy_score, precision_score, recall_score, f1_score\n",
        "\n",
        "# Random Forest\n",
        "rf_model = ImbPipeline(steps=[\n",
        "    ('classifier', RandomForestClassifier(random_state = 42))\n",
        "])\n",
        "\n",
        "# Train random_search on the training data\n",
        "rf_model.fit(X_train, y_train)\n",
        "\n",
        "# Validation data\n",
        "# Make prediction on validation data\n",
        "rf_y_pred_val = rf_model.predict(X_val)\n",
        "\n",
        "# Print classification report\n",
        "print(\"Classification report for validation data - RF\")\n",
        "print(classification_report(y_val, rf_y_pred_val))\n",
        "\n",
        "# Testing data\n",
        "# Make prediction on testing data\n",
        "rf_y_pred_test = rf_model.predict(X_test)\n",
        "\n",
        "# Print classification report\n",
        "print(\"Classification report for testing data - RF\")\n",
        "print(classification_report(y_test, rf_y_pred_test))"
      ]
    },
    {
      "cell_type": "markdown",
      "metadata": {
        "id": "xqt2yYufkDi7"
      },
      "source": [
        "# Random Forest - addressing imbalance"
      ]
    },
    {
      "cell_type": "code",
      "execution_count": 7,
      "metadata": {
        "colab": {
          "base_uri": "https://localhost:8080/"
        },
        "id": "mMHWnfxBj-mj",
        "outputId": "9a985557-a722-442a-8c0d-0fdab0b48473"
      },
      "outputs": [
        {
          "output_type": "stream",
          "name": "stdout",
          "text": [
            "Classification report for validation data - RF\n",
            "              precision    recall  f1-score   support\n",
            "\n",
            "           0       0.95      0.95      0.95      4464\n",
            "           1       0.49      0.50      0.50       421\n",
            "\n",
            "    accuracy                           0.91      4885\n",
            "   macro avg       0.72      0.73      0.72      4885\n",
            "weighted avg       0.91      0.91      0.91      4885\n",
            "\n",
            "Classification report for testing data - RF\n",
            "              precision    recall  f1-score   support\n",
            "\n",
            "           0       0.95      0.95      0.95      5525\n",
            "           1       0.51      0.52      0.52       581\n",
            "\n",
            "    accuracy                           0.91      6106\n",
            "   macro avg       0.73      0.73      0.73      6106\n",
            "weighted avg       0.91      0.91      0.91      6106\n",
            "\n"
          ]
        }
      ],
      "source": [
        "# Make an RandomForestClassifier model\n",
        "rf_model = RandomForestClassifier(random_state=42)\n",
        "\n",
        "# Use RFE to take the top 2 selected features\n",
        "rfe = RFE(estimator=rf_model, n_features_to_select=9)\n",
        "\n",
        "# Random Forest\n",
        "rf_pipeline = ImbPipeline(steps=[\n",
        "    ('smote', SMOTE(random_state = 42)),\n",
        "    ('feature_selection', rfe),\n",
        "    ('classifier', rf_model)\n",
        "])\n",
        "\n",
        "# Train random_search on the training data\n",
        "rf_pipeline.fit(X_train, y_train)\n",
        "\n",
        "# Validation data\n",
        "# Make prediction on validation data\n",
        "rf_y_pred_val = rf_pipeline.predict(X_val)\n",
        "\n",
        "# Print classification report\n",
        "print(\"Classification report for validation data - RF\")\n",
        "print(classification_report(y_val, rf_y_pred_val))\n",
        "\n",
        "# Testing data\n",
        "# Make prediction on testing data\n",
        "rf_y_pred_test = rf_pipeline.predict(X_test)\n",
        "\n",
        "# Print classification report\n",
        "print(\"Classification report for testing data - RF\")\n",
        "print(classification_report(y_test, rf_y_pred_test))"
      ]
    },
    {
      "cell_type": "code",
      "execution_count": 8,
      "metadata": {
        "colab": {
          "base_uri": "https://localhost:8080/"
        },
        "id": "xvWW-fJYKqMY",
        "outputId": "30a1865c-7663-4389-e1e6-918db4d3c658"
      },
      "outputs": [
        {
          "output_type": "stream",
          "name": "stdout",
          "text": [
            "Geselecteerde features door RFE: ['cat_encode__MARST_Married', 'cat_encode__MARST_Never married', 'cat_encode__RACE_White', 'cat_label__EDUC', 'binary__SEX_binary', 'binary__CLASSWKR_binary', 'binary__LABFORCE_binary', 'num__AGE', 'num__MINIMUM WAGE']\n"
          ]
        }
      ],
      "source": [
        "# Haal de RFE-stap op uit de pipeline, let op: gebruik rf_pipeline in plaats van rf_model\n",
        "rfe_step = rf_pipeline.named_steps['feature_selection']\n",
        "\n",
        "# De 'support_' attribute bevat een booleaanse array die aangeeft welke features geselecteerd zijn\n",
        "selected_features_boolean = rfe_step.support_\n",
        "\n",
        "# Haal de geselecteerde feature-namen op (gebruik de juiste feature-namen na preprocessing)\n",
        "selected_feature_names = pd.Series(feature_names)[selected_features_boolean].tolist()\n",
        "\n",
        "# Toon de geselecteerde features\n",
        "print(\"Geselecteerde features door RFE:\", selected_feature_names)\n"
      ]
    },
    {
      "cell_type": "markdown",
      "metadata": {
        "id": "xOsNHnmTjB1x"
      },
      "source": [
        "# Random Forest - hyperparameter tuning random and gridsearch"
      ]
    },
    {
      "cell_type": "code",
      "execution_count": 9,
      "metadata": {
        "colab": {
          "base_uri": "https://localhost:8080/"
        },
        "id": "HUkcL_nsUt1T",
        "outputId": "f2b3f801-4194-4c6f-8e5c-141815f7cc84"
      },
      "outputs": [
        {
          "output_type": "stream",
          "name": "stdout",
          "text": [
            "Fitting 5 folds for each of 18 candidates, totalling 90 fits\n",
            "fold 1:\n",
            "  Best Hyperparameters: {'param_classifier__class_weight': 'balanced', 'param_classifier__max_depth': None, 'param_classifier__n_estimators': 100}\n",
            "  Best Weighted F1-Score: 0.9172\n",
            "fold 2:\n",
            "  Best Hyperparameters: {'param_classifier__class_weight': 'balanced', 'param_classifier__max_depth': None, 'param_classifier__n_estimators': 200}\n",
            "  Best Weighted F1-Score: 0.9065\n",
            "fold 3:\n",
            "  Best Hyperparameters: {'param_classifier__class_weight': 'balanced', 'param_classifier__max_depth': None, 'param_classifier__n_estimators': 200}\n",
            "  Best Weighted F1-Score: 0.9108\n",
            "fold 4:\n",
            "  Best Hyperparameters: {'param_classifier__class_weight': 'balanced', 'param_classifier__max_depth': None, 'param_classifier__n_estimators': 200}\n",
            "  Best Weighted F1-Score: 0.9085\n",
            "fold 5:\n",
            "  Best Hyperparameters: {'param_classifier__class_weight': 'balanced', 'param_classifier__max_depth': None, 'param_classifier__n_estimators': 200}\n",
            "  Best Weighted F1-Score: 0.9036\n",
            "Best hyperparameters: {'classifier__class_weight': 'balanced', 'classifier__max_depth': None, 'classifier__n_estimators': 200}\n",
            "Best accuracy: 0.9091110834702116\n",
            "Best precision: 0.47508019802346213\n",
            "Best recall: 0.4765402183363122\n",
            "Best F1-score: 0.9091110834702116\n",
            "Classification report for training data - RF\n",
            "              precision    recall  f1-score   support\n",
            "\n",
            "           0       0.98      0.97      0.97     17848\n",
            "           1       0.71      0.80      0.75      1690\n",
            "\n",
            "    accuracy                           0.95     19538\n",
            "   macro avg       0.85      0.88      0.86     19538\n",
            "weighted avg       0.96      0.95      0.96     19538\n",
            "\n",
            "Classification report for validation data - RF\n",
            "              precision    recall  f1-score   support\n",
            "\n",
            "           0       0.95      0.95      0.95      4464\n",
            "           1       0.49      0.50      0.49       421\n",
            "\n",
            "    accuracy                           0.91      4885\n",
            "   macro avg       0.72      0.73      0.72      4885\n",
            "weighted avg       0.91      0.91      0.91      4885\n",
            "\n",
            "Classification report for testing data - RF\n",
            "              precision    recall  f1-score   support\n",
            "\n",
            "           0       0.95      0.95      0.95      5525\n",
            "           1       0.51      0.52      0.51       581\n",
            "\n",
            "    accuracy                           0.91      6106\n",
            "   macro avg       0.73      0.73      0.73      6106\n",
            "weighted avg       0.91      0.91      0.91      6106\n",
            "\n"
          ]
        }
      ],
      "source": [
        "# RandomForestClassifier model\n",
        "rf_model = RandomForestClassifier(random_state=42)\n",
        "\n",
        "# Use RFE to select the top 9 features\n",
        "rfe = RFE(estimator=rf_model, n_features_to_select=9)\n",
        "\n",
        "# Pipeline\n",
        "rf_pipeline = ImbPipeline(steps=[\n",
        "    ('smote', SMOTE(random_state = 42)),\n",
        "    ('feature_selection', rfe),\n",
        "    ('classifier', rf_model)\n",
        "])\n",
        "\n",
        "# K-Fold Cross-Validation\n",
        "kf_cv = KFold(n_splits = 5, shuffle = True, random_state = 42)\n",
        "\n",
        "# Scoring\n",
        "scoring = {\n",
        "    'accuracy': make_scorer(accuracy_score),\n",
        "    'precision': make_scorer(precision_score, pos_label = 1),\n",
        "    'recall': make_scorer(recall_score, pos_label = 1),\n",
        "    'f1_weighted': make_scorer(f1_score, average = \"weighted\")\n",
        "}\n",
        "\n",
        "rf_param_grid = {\n",
        "    'classifier__n_estimators': [100, 200],\n",
        "    'classifier__max_depth': [None, 5, 10],\n",
        "    'classifier__class_weight': ['balanced',\n",
        "     {0: 1, 1: 2},\n",
        "     {0: 1, 1: 3}]\n",
        "}\n",
        "\n",
        "\n",
        "# GridSearchCV\n",
        "rf_grid_search = GridSearchCV(\n",
        "    estimator = rf_pipeline,\n",
        "    param_grid = rf_param_grid,\n",
        "    cv = kf_cv,\n",
        "    scoring = scoring,\n",
        "    refit = 'f1_weighted',\n",
        "    n_jobs = -1,\n",
        "    verbose = 1\n",
        ")\n",
        "\n",
        "\n",
        "# Train the model on the training data\n",
        "rf_grid_search.fit(X_train, y_train)\n",
        "\n",
        "#-------------------------------------------------------------------------------\n",
        "# Results per fold\n",
        "cv_results = pd.DataFrame(rf_grid_search.cv_results_)\n",
        "\n",
        "# Columns for per-fold scores\n",
        "fold_columns = [col for col in cv_results.columns if \"split\" in col and \"test_f1\" in col]\n",
        "\n",
        "# For each fold finding the best hyperparameters\n",
        "best_params_per_fold = {}\n",
        "for i, fold_col in enumerate(fold_columns):\n",
        "    best_index = cv_results[fold_col].idxmax()\n",
        "    best_params_per_fold[f\"fold {i+1}\"] = {\n",
        "        \"best_params\": {param: cv_results.loc[best_index, param] for param in cv_results.columns if param.startswith(\"param_\")},\n",
        "        \"best_score\": cv_results.loc[best_index, fold_col]\n",
        "    }\n",
        "\n",
        "# Display the best hyperparameters per fold\n",
        "for fold, result in best_params_per_fold.items():\n",
        "    print(f\"{fold}:\")\n",
        "    print(f\"  Best Hyperparameters: {result['best_params']}\")\n",
        "    print(f\"  Best Weighted F1-Score: {result['best_score']:.4f}\")\n",
        "\n",
        "print(\"Best hyperparameters:\", rf_grid_search.best_params_)\n",
        "print(\"Best accuracy:\", rf_grid_search.best_score_)\n",
        "print(\"Best precision:\", rf_grid_search.cv_results_['mean_test_precision'][rf_grid_search.best_index_])\n",
        "print(\"Best recall:\", rf_grid_search.cv_results_['mean_test_recall'][rf_grid_search.best_index_])\n",
        "print(\"Best F1-score:\", rf_grid_search.cv_results_['mean_test_f1_weighted'][rf_grid_search.best_index_])\n",
        "\n",
        "#-------------------------------------------------------------------------------\n",
        "# Training data\n",
        "# Make prediction on validation data\n",
        "rf_y_pred_train = rf_grid_search.predict(X_train)\n",
        "\n",
        "# Print classification report\n",
        "print(\"Classification report for training data - RF\")\n",
        "print(classification_report(y_train, rf_y_pred_train))\n",
        "\n",
        "# Validation data\n",
        "# Make prediction on validation data\n",
        "rf_y_pred_val = rf_grid_search.predict(X_val)\n",
        "\n",
        "# Print classification report\n",
        "print(\"Classification report for validation data - RF\")\n",
        "print(classification_report(y_val, rf_y_pred_val))\n",
        "\n",
        "# Testing data\n",
        "# Make prediction on testing data\n",
        "rf_y_pred_test = rf_grid_search.predict(X_test)\n",
        "\n",
        "# Print classification report\n",
        "print(\"Classification report for testing data - RF\")\n",
        "print(classification_report(y_test, rf_y_pred_test))"
      ]
    },
    {
      "cell_type": "markdown",
      "source": [
        "# Random forest with hyperparameter tuning without class imbalance"
      ],
      "metadata": {
        "id": "zDuBqXqVAJkC"
      }
    },
    {
      "cell_type": "code",
      "source": [
        "# RandomForestClassifier model\n",
        "rf_model = RandomForestClassifier(random_state=42)\n",
        "\n",
        "# Use RFE to select the top 9 features\n",
        "rfe = RFE(estimator=rf_model, n_features_to_select=9)\n",
        "\n",
        "# Pipeline\n",
        "rf_pipeline = ImbPipeline(steps=[\n",
        "    ('feature_selection', rfe),\n",
        "    ('classifier', rf_model)\n",
        "])\n",
        "\n",
        "# General setting for RandomSearchCV en GridSearchCV\n",
        "# K-Fold Cross-Validation\n",
        "kf_cv = KFold(n_splits = 5, shuffle = True, random_state = 42)\n",
        "\n",
        "# Scoring\n",
        "scoring = {\n",
        "    'accuracy': make_scorer(accuracy_score),\n",
        "    'precision': make_scorer(precision_score, pos_label = 1),\n",
        "    'recall': make_scorer(recall_score, pos_label = 1),\n",
        "    'f1_weighted': make_scorer(f1_score, average = \"weighted\")\n",
        "}\n",
        "\n",
        "rf_param_grid = {\n",
        "    'classifier__n_estimators': [100, 200],\n",
        "    'classifier__max_depth': [None, 5, 10]\n",
        "}\n",
        "\n",
        "\n",
        "# GridSearchCV\n",
        "rf_grid_search_2 = GridSearchCV(\n",
        "    estimator = rf_pipeline,\n",
        "    param_grid = rf_param_grid,\n",
        "    cv = kf_cv,\n",
        "    scoring = scoring,\n",
        "    refit = 'f1_weighted',\n",
        "    n_jobs = -1,\n",
        "    verbose = 1\n",
        ")\n",
        "\n",
        "\n",
        "# Train the model on the training data\n",
        "rf_grid_search_2.fit(X_train, y_train)\n",
        "\n",
        "#-------------------------------------------------------------------------------\n",
        "# Results per fold\n",
        "cv_results = pd.DataFrame(rf_grid_search_2.cv_results_)\n",
        "\n",
        "# Columns for per-fold scores\n",
        "fold_columns = [col for col in cv_results.columns if \"split\" in col and \"test_f1\" in col]\n",
        "\n",
        "# For each fold finding the beste hyperparameters\n",
        "best_params_per_fold = {}\n",
        "for i, fold_col in enumerate(fold_columns):\n",
        "    best_index = cv_results[fold_col].idxmax()\n",
        "    best_params_per_fold[f\"fold {i+1}\"] = {\n",
        "        \"best_params\": {param: cv_results.loc[best_index, param] for param in cv_results.columns if param.startswith(\"param_\")},\n",
        "        \"best_score\": cv_results.loc[best_index, fold_col]\n",
        "    }\n",
        "\n",
        "# Display the best hyperparameters per fold\n",
        "for fold, result in best_params_per_fold.items():\n",
        "    print(f\"{fold}:\")\n",
        "    print(f\"  Best Hyperparameters: {result['best_params']}\")\n",
        "    print(f\"  Best Weighted F1-Score: {result['best_score']:.4f}\")\n",
        "\n",
        "print(\"Best hyperparameters:\", rf_grid_search_2.best_params_)\n",
        "print(\"Best accuracy:\", rf_grid_search_2.best_score_)\n",
        "print(\"Best precision:\", rf_grid_search_2.cv_results_['mean_test_precision'][rf_grid_search_2.best_index_])\n",
        "print(\"Best recall:\", rf_grid_search_2.cv_results_['mean_test_recall'][rf_grid_search_2.best_index_])\n",
        "print(\"Best F1-score:\", rf_grid_search_2.cv_results_['mean_test_f1_weighted'][rf_grid_search_2.best_index_])\n",
        "\n",
        "#-------------------------------------------------------------------------------\n",
        "# Training data\n",
        "# Make prediction on validation data\n",
        "rf_y_pred_train = rf_grid_search_2.predict(X_train)\n",
        "\n",
        "# Print classification report\n",
        "print(\"Classification report for training data - RF\")\n",
        "print(classification_report(y_train, rf_y_pred_train))\n",
        "\n",
        "# Validation data\n",
        "# Make prediction on validation data\n",
        "rf_y_pred_val = rf_grid_search_2.predict(X_val)\n",
        "\n",
        "# Print classification report\n",
        "print(\"Classification report for validation data - RF\")\n",
        "print(classification_report(y_val, rf_y_pred_val))\n",
        "\n",
        "# Testing data\n",
        "# Make prediction on testing data\n",
        "rf_y_pred_test = rf_grid_search_2.predict(X_test)\n",
        "\n",
        "# Print classification report\n",
        "print(\"Classification report for testing data - RF\")\n",
        "print(classification_report(y_test, rf_y_pred_test))"
      ],
      "metadata": {
        "colab": {
          "base_uri": "https://localhost:8080/"
        },
        "id": "m-vA22Jb_-QW",
        "outputId": "5fd61c9d-1fbb-4865-c2ea-dc737b6542ad"
      },
      "execution_count": 10,
      "outputs": [
        {
          "output_type": "stream",
          "name": "stdout",
          "text": [
            "Fitting 5 folds for each of 6 candidates, totalling 30 fits\n",
            "fold 1:\n",
            "  Best Hyperparameters: {'param_classifier__max_depth': None, 'param_classifier__n_estimators': 200}\n",
            "  Best Weighted F1-Score: 0.9303\n",
            "fold 2:\n",
            "  Best Hyperparameters: {'param_classifier__max_depth': None, 'param_classifier__n_estimators': 200}\n",
            "  Best Weighted F1-Score: 0.9187\n",
            "fold 3:\n",
            "  Best Hyperparameters: {'param_classifier__max_depth': None, 'param_classifier__n_estimators': 200}\n",
            "  Best Weighted F1-Score: 0.9192\n",
            "fold 4:\n",
            "  Best Hyperparameters: {'param_classifier__max_depth': None, 'param_classifier__n_estimators': 100}\n",
            "  Best Weighted F1-Score: 0.9148\n",
            "fold 5:\n",
            "  Best Hyperparameters: {'param_classifier__max_depth': None, 'param_classifier__n_estimators': 200}\n",
            "  Best Weighted F1-Score: 0.9153\n",
            "Best hyperparameters: {'classifier__max_depth': None, 'classifier__n_estimators': 200}\n",
            "Best accuracy: 0.9196448292247282\n",
            "Best precision: 0.6326684630991268\n",
            "Best recall: 0.3900573702545932\n",
            "Best F1-score: 0.9196448292247282\n",
            "Classification report for training data - RF\n",
            "              precision    recall  f1-score   support\n",
            "\n",
            "           0       0.97      0.99      0.98     17848\n",
            "           1       0.92      0.64      0.75      1690\n",
            "\n",
            "    accuracy                           0.96     19538\n",
            "   macro avg       0.94      0.82      0.87     19538\n",
            "weighted avg       0.96      0.96      0.96     19538\n",
            "\n",
            "Classification report for validation data - RF\n",
            "              precision    recall  f1-score   support\n",
            "\n",
            "           0       0.94      0.98      0.96      4464\n",
            "           1       0.63      0.38      0.48       421\n",
            "\n",
            "    accuracy                           0.93      4885\n",
            "   macro avg       0.79      0.68      0.72      4885\n",
            "weighted avg       0.92      0.93      0.92      4885\n",
            "\n",
            "Classification report for testing data - RF\n",
            "              precision    recall  f1-score   support\n",
            "\n",
            "           0       0.94      0.98      0.96      5525\n",
            "           1       0.68      0.40      0.51       581\n",
            "\n",
            "    accuracy                           0.93      6106\n",
            "   macro avg       0.81      0.69      0.73      6106\n",
            "weighted avg       0.92      0.93      0.92      6106\n",
            "\n"
          ]
        }
      ]
    },
    {
      "cell_type": "markdown",
      "metadata": {
        "id": "L8FiA-v66Fls"
      },
      "source": [
        "# Feature importance - RF"
      ]
    },
    {
      "cell_type": "code",
      "execution_count": 11,
      "metadata": {
        "colab": {
          "base_uri": "https://localhost:8080/",
          "height": 0
        },
        "id": "Z_lIo22P6C8G",
        "outputId": "c86638be-fc1a-4e4d-a408-a6164b8da74b"
      },
      "outputs": [
        {
          "output_type": "display_data",
          "data": {
            "text/plain": [
              "<Figure size 1000x600 with 1 Axes>"
            ],
            "image/png": "[encoded data removed]"
          },
          "metadata": {}
        }
      ],
      "source": [
        "# changing the features to more readable names\n",
        "feature_name_mapping = {\n",
        "    'num__AGE': 'Age',\n",
        "    'num__MINIMUM WAGE': 'Minimum Wage',\n",
        "    'cat_label__EDUC': 'Education',\n",
        "    'binary__LABFORCE_binary': 'Labor Force Status',\n",
        "    'binary__CLASSWKR_binary': 'Class of Worker',\n",
        "    'binary__SEX_binary': 'Gender',\n",
        "    'cat_encode__MARST_Married': 'Marital Status - Married',\n",
        "    'cat_encode__RACE_White': 'Race - White',\n",
        "    'cat_encode__MARST_Never married': 'Marital Status - Never Married'\n",
        "}\n",
        "\n",
        "# Extract selected features from the fitted RFE\n",
        "fitted_rfe = rf_grid_search.best_estimator_.named_steps['feature_selection']\n",
        "fitted_rf = rf_grid_search.best_estimator_.named_steps['classifier']\n",
        "\n",
        "# Get the selected feature names using RFE\n",
        "selected_features = X_train.columns[fitted_rfe.support_]\n",
        "\n",
        "# Get feature importances from the fitted RandomForestClassifier\n",
        "feature_importances = fitted_rf.feature_importances_\n",
        "\n",
        "# Sort the features and their importance scores\n",
        "sorted_idx = np.argsort(feature_importances)\n",
        "sorted_features = selected_features[sorted_idx]\n",
        "sorted_importances = feature_importances[sorted_idx]\n",
        "\n",
        "# Rename the features using the mapping dictionary\n",
        "renamed_sorted_features = [feature_name_mapping.get(feat, feat) for feat in sorted_features]\n",
        "\n",
        "# Create a horizontal bar chart for feature importances\n",
        "plt.figure(figsize=(10, 6))\n",
        "plt.barh(renamed_sorted_features, sorted_importances, color='#ADD8E6')\n",
        "plt.xlabel('Feature importance score', fontsize = 16)\n",
        "plt.ylabel('Features', fontsize = 16)\n",
        "plt.title('Feature importance - RF', fontsize = 20)\n",
        "plt.xticks(fontsize=14)\n",
        "plt.yticks(fontsize=14)\n",
        "plt.tight_layout()\n",
        "plt.show()\n"
      ]
    },
    {
      "cell_type": "markdown",
      "source": [
        "# Confusion matrix displayed as heatmap"
      ],
      "metadata": {
        "id": "3EV4TZvO8Mg0"
      }
    },
    {
      "cell_type": "code",
      "source": [
        "# Confusion matrix voor de testdata\n",
        "conf_matrix = confusion_matrix(y_test, rf_y_pred_test)\n",
        "\n",
        "# Plot de heatmap\n",
        "plt.figure(figsize=(8, 6))\n",
        "sns.heatmap(conf_matrix, annot=True, fmt='d', cmap='Blues', xticklabels=['Employed', 'Unemployed'], yticklabels=['Employed', 'Unemployed'],annot_kws={\"size\": 16} )\n",
        "plt.xlabel('Predicted value', fontsize=18)\n",
        "plt.ylabel('True value', fontsize=18)\n",
        "plt.title('Confusion Matrix - RF', fontsize=20)\n",
        "plt.xticks(fontsize=16)\n",
        "plt.yticks(fontsize=16)\n",
        "plt.show()\n"
      ],
      "metadata": {
        "colab": {
          "base_uri": "https://localhost:8080/",
          "height": 0
        },
        "id": "doioXwpo3lX4",
        "outputId": "0adfdcee-7465-4b08-95b8-51294fbf5f71"
      },
      "execution_count": 12,
      "outputs": [
        {
          "output_type": "display_data",
          "data": {
            "text/plain": [
              "<Figure size 800x600 with 2 Axes>"
            ],
            "image/png": "[encoded data removed]"
          },
          "metadata": {}
        }
      ]
    },
    {
      "cell_type": "markdown",
      "source": [
        "# Actual vs predicted - scatterplot"
      ],
      "metadata": {
        "id": "rGuc2Yfw38Ql"
      }
    },
    {
      "cell_type": "code",
      "source": [
        "# actual vs predicted\n",
        "actual = y_test\n",
        "predicted = rf_y_pred_test\n",
        "\n",
        "classes = np.unique(actual)\n",
        "\n",
        "# Scatterplot\n",
        "plt.figure(figsize=(8, 6))\n",
        "for cls in classes:\n",
        "    plt.scatter(\n",
        "        np.where(actual == cls)[0],\n",
        "        predicted[actual == cls],\n",
        "        label=f\"Class {cls}\"\n",
        "    )\n",
        "\n",
        "plt.axhline(y=0.5, color=\"gray\", linestyle=\"--\", label=\"Decision boundary\")\n",
        "plt.xlabel(\"Sample index\", fontsize=18)\n",
        "plt.ylabel(\"Predicted value\", fontsize=18)\n",
        "plt.title(\"Actual vs Predicted - RF\", fontsize=20)\n",
        "plt.xticks(fontsize=16)\n",
        "plt.yticks(fontsize=16)\n",
        "plt.legend(loc=\"best\", fontsize = 12)\n"
      ],
      "metadata": {
        "colab": {
          "base_uri": "https://localhost:8080/",
          "height": 606
        },
        "id": "brrU_VGP4BBQ",
        "outputId": "0dc65dab-011e-44a1-fc92-2e8aac0e7df3"
      },
      "execution_count": 13,
      "outputs": [
        {
          "output_type": "execute_result",
          "data": {
            "text/plain": [
              "<matplotlib.legend.Legend at 0x79c063b55030>"
            ]
          },
          "metadata": {},
          "execution_count": 13
        },
        {
          "output_type": "display_data",
          "data": {
            "text/plain": [
              "<Figure size 800x600 with 1 Axes>"
            ],
            "image/png": "[encoded data removed]"
          },
          "metadata": {}
        }
      ]
    },
    {
      "cell_type": "markdown",
      "source": [
        "# LIME"
      ],
      "metadata": {
        "id": "foHzPGMT4m-0"
      }
    },
    {
      "cell_type": "code",
      "source": [
        "# Set the random seed for reproducibility\n",
        "np.random.seed(42)\n",
        "i = 10  # Fixed index from the validation set, choose a specific index like 10\n",
        "\n",
        "# LIME explanation for RF without class imbalance\n",
        "explainer = lime.lime_tabular.LimeTabularExplainer(\n",
        "    training_data=np.array(X_train),\n",
        "    feature_names=X_train.columns,\n",
        "    class_names=['class_0', 'class_1'],\n",
        "    mode='classification'\n",
        ")\n",
        "\n",
        "exp = explainer.explain_instance(\n",
        "    data_row=X_val.iloc[i],\n",
        "    predict_fn=rf_grid_search_2.predict_proba,\n",
        "    labels=[0]\n",
        ")\n",
        "\n",
        "# Display the explanation with matplotlib\n",
        "fig = exp.as_pyplot_figure(label=0)\n",
        "\n",
        "# Adjust the title to make it more readable\n",
        "plt.title(\"LIME Explanation\", fontsize = 14)\n",
        "plt.ylabel(\"Features\", fontsize = 14)\n",
        "\n",
        "# Show the plot\n",
        "plt.show()\n"
      ],
      "metadata": {
        "colab": {
          "base_uri": "https://localhost:8080/",
          "height": 726
        },
        "id": "4qkHUEmIoEM7",
        "outputId": "36fb4145-d7c8-4bd8-cb1c-3160ba37857c"
      },
      "execution_count": 32,
      "outputs": [
        {
          "output_type": "stream",
          "name": "stderr",
          "text": [
            "/usr/local/lib/python3.10/dist-packages/lime/discretize.py:110: FutureWarning: Series.__getitem__ treating keys as positions is deprecated. In a future version, integer keys will always be treated as labels (consistent with DataFrame behavior). To access a value by position, use `ser.iloc[pos]`\n",
            "  ret[feature] = int(self.lambdas[feature](ret[feature]))\n",
            "/usr/local/lib/python3.10/dist-packages/lime/discretize.py:110: FutureWarning: Series.__setitem__ treating keys as positions is deprecated. In a future version, integer keys will always be treated as labels (consistent with DataFrame behavior). To set a value by position, use `ser.iloc[pos] = value`\n",
            "  ret[feature] = int(self.lambdas[feature](ret[feature]))\n",
            "/usr/local/lib/python3.10/dist-packages/lime/lime_tabular.py:544: FutureWarning: Series.__getitem__ treating keys as positions is deprecated. In a future version, integer keys will always be treated as labels (consistent with DataFrame behavior). To access a value by position, use `ser.iloc[pos]`\n",
            "  binary_column = (inverse_column == first_row[column]).astype(int)\n",
            "/usr/local/lib/python3.10/dist-packages/sklearn/base.py:493: UserWarning: X does not have valid feature names, but RFE was fitted with feature names\n",
            "  warnings.warn(\n",
            "/usr/local/lib/python3.10/dist-packages/lime/discretize.py:110: FutureWarning: Series.__getitem__ treating keys as positions is deprecated. In a future version, integer keys will always be treated as labels (consistent with DataFrame behavior). To access a value by position, use `ser.iloc[pos]`\n",
            "  ret[feature] = int(self.lambdas[feature](ret[feature]))\n",
            "/usr/local/lib/python3.10/dist-packages/lime/discretize.py:110: FutureWarning: Series.__setitem__ treating keys as positions is deprecated. In a future version, integer keys will always be treated as labels (consistent with DataFrame behavior). To set a value by position, use `ser.iloc[pos] = value`\n",
            "  ret[feature] = int(self.lambdas[feature](ret[feature]))\n",
            "/usr/local/lib/python3.10/dist-packages/lime/lime_tabular.py:427: FutureWarning: Series.__getitem__ treating keys as positions is deprecated. In a future version, integer keys will always be treated as labels (consistent with DataFrame behavior). To access a value by position, use `ser.iloc[pos]`\n",
            "  discretized_instance[f])]\n"
          ]
        },
        {
          "output_type": "display_data",
          "data": {
            "text/plain": [
              "<Figure size 640x480 with 1 Axes>"
            ],
            "image/png": "[encoded data removed]"
          },
          "metadata": {}
        }
      ]
    },
    {
      "cell_type": "code",
      "source": [
        "# Set the random seed for reproducibility\n",
        "np.random.seed(42)\n",
        "i = 10\n",
        "\n",
        "# LIME explanation for RF with class imbalance\n",
        "explainer = lime.lime_tabular.LimeTabularExplainer(\n",
        "    training_data=np.array(X_train),\n",
        "    feature_names=X_train.columns,\n",
        "    class_names=['class_0', 'class_1'],\n",
        "    mode='classification'\n",
        ")\n",
        "\n",
        "exp = explainer.explain_instance(\n",
        "    data_row=X_val.iloc[i],\n",
        "    predict_fn=rf_grid_search.predict_proba,\n",
        "    labels=[0]\n",
        ")\n",
        "\n",
        "# Display the explanation with matplotlib\n",
        "fig = exp.as_pyplot_figure(label=0)\n",
        "\n",
        "# Adjust the title and feature names to make it more readable\n",
        "plt.title(\"LIME Explanation\", fontsize = 14)\n",
        "plt.ylabel(\"Features\", fontsize = 14)\n",
        "\n",
        "# Show the plot\n",
        "plt.show()\n"
      ],
      "metadata": {
        "colab": {
          "base_uri": "https://localhost:8080/",
          "height": 726
        },
        "id": "xARVuPCs_bFH",
        "outputId": "398aa114-29a8-4dc3-f79c-b92e5cd01dc6"
      },
      "execution_count": 31,
      "outputs": [
        {
          "output_type": "stream",
          "name": "stderr",
          "text": [
            "/usr/local/lib/python3.10/dist-packages/lime/discretize.py:110: FutureWarning: Series.__getitem__ treating keys as positions is deprecated. In a future version, integer keys will always be treated as labels (consistent with DataFrame behavior). To access a value by position, use `ser.iloc[pos]`\n",
            "  ret[feature] = int(self.lambdas[feature](ret[feature]))\n",
            "/usr/local/lib/python3.10/dist-packages/lime/discretize.py:110: FutureWarning: Series.__setitem__ treating keys as positions is deprecated. In a future version, integer keys will always be treated as labels (consistent with DataFrame behavior). To set a value by position, use `ser.iloc[pos] = value`\n",
            "  ret[feature] = int(self.lambdas[feature](ret[feature]))\n",
            "/usr/local/lib/python3.10/dist-packages/lime/lime_tabular.py:544: FutureWarning: Series.__getitem__ treating keys as positions is deprecated. In a future version, integer keys will always be treated as labels (consistent with DataFrame behavior). To access a value by position, use `ser.iloc[pos]`\n",
            "  binary_column = (inverse_column == first_row[column]).astype(int)\n",
            "/usr/local/lib/python3.10/dist-packages/sklearn/base.py:493: UserWarning: X does not have valid feature names, but RFE was fitted with feature names\n",
            "  warnings.warn(\n",
            "/usr/local/lib/python3.10/dist-packages/lime/discretize.py:110: FutureWarning: Series.__getitem__ treating keys as positions is deprecated. In a future version, integer keys will always be treated as labels (consistent with DataFrame behavior). To access a value by position, use `ser.iloc[pos]`\n",
            "  ret[feature] = int(self.lambdas[feature](ret[feature]))\n",
            "/usr/local/lib/python3.10/dist-packages/lime/discretize.py:110: FutureWarning: Series.__setitem__ treating keys as positions is deprecated. In a future version, integer keys will always be treated as labels (consistent with DataFrame behavior). To set a value by position, use `ser.iloc[pos] = value`\n",
            "  ret[feature] = int(self.lambdas[feature](ret[feature]))\n",
            "/usr/local/lib/python3.10/dist-packages/lime/lime_tabular.py:427: FutureWarning: Series.__getitem__ treating keys as positions is deprecated. In a future version, integer keys will always be treated as labels (consistent with DataFrame behavior). To access a value by position, use `ser.iloc[pos]`\n",
            "  discretized_instance[f])]\n"
          ]
        },
        {
          "output_type": "display_data",
          "data": {
            "text/plain": [
              "<Figure size 640x480 with 1 Axes>"
            ],
            "image/png": "[encoded data removed]"
          },
          "metadata": {}
        }
      ]
    },
    {
      "cell_type": "markdown",
      "source": [
        "# SHAP"
      ],
      "metadata": {
        "id": "FpfvvrqHDy2f"
      }
    },
    {
      "cell_type": "code",
      "source": [
        "# Stap 1: Verkrijg de geselecteerde features via RFE\n",
        "rfe_step = rf_grid_search_2.best_estimator_.named_steps['feature_selection']\n",
        "selected_features = X_train.columns[rfe_step.support_]\n",
        "\n",
        "# Stap 2: Neem een sample van 1000 rijen uit X_val en bijbehorende labels\n",
        "sample_size = 4000\n",
        "random_state = 42\n",
        "\n",
        "X_val_sample = X_val.sample(n=sample_size, random_state=random_state)\n",
        "y_val_sample = y_val.loc[X_val_sample.index]  # Zorg dat labels overeenkomen\n",
        "\n",
        "# Stap 3: Filter de sampled data voor de geselecteerde features\n",
        "X_val_selected = X_val_sample[selected_features]\n",
        "\n",
        "# Stap 4: Maak de SHAP Explainer voor de classifier\n",
        "explainer = shap.TreeExplainer(rf_grid_search_2.best_estimator_.named_steps['classifier'], feature_perturbation=\"interventional\")\n",
        "\n",
        "# Stap 5: Bereken SHAP waarden voor de sample\n",
        "shap_values = explainer.shap_values(X_val_selected)"
      ],
      "metadata": {
        "id": "b7-C4ZZXD-4i"
      },
      "execution_count": null,
      "outputs": []
    },
    {
      "cell_type": "code",
      "source": [
        "# SHAP Summary Plot als bar chart\n",
        "shap.summary_plot(\n",
        "    shap_values,\n",
        "    features=X_val_selected,\n",
        "    feature_names=selected_features,\n",
        "    plot_type=\"bar\",\n",
        "    plot_size=(20, 50)  # Pas de grootte van de grafiek aan\n",
        ")\n"
      ],
      "metadata": {
        "id": "_ZtcxOq40WXJ"
      },
      "execution_count": null,
      "outputs": []
    },
    {
      "cell_type": "markdown",
      "metadata": {
        "id": "Ez5nXtyjvde-"
      },
      "source": [
        "# XGBoost - without hyperparameter tuning"
      ]
    },
    {
      "cell_type": "code",
      "execution_count": null,
      "metadata": {
        "id": "PnZPtV73vqRn"
      },
      "outputs": [],
      "source": [
        "# eXtreme Gradient Boosting (XGBoost)\n",
        "\n",
        "xgb_model = ImbPipeline(steps=[\n",
        "    ('classifier',XGBClassifier(random_state = 42))\n",
        "])\n",
        "\n",
        "# Train the model on the training data\n",
        "xgb_model.fit(X_train, y_train)\n",
        "\n",
        "# Validation data\n",
        "# Make prediction on validation data\n",
        "xgb_y_pred_val = xgb_model.predict(X_val)\n",
        "\n",
        "# Create a DataFrame for actual vs predicted values\n",
        "a = pd.DataFrame({'Actual value': y_val, 'Predicted value': xgb_y_pred_val})\n",
        "print(a.head())\n",
        "\n",
        "# Print classification report\n",
        "print(\"Classification report for validation data - XGBoost\")\n",
        "print(classification_report(y_val, xgb_y_pred_val))\n",
        "\n",
        "# Testing data\n",
        "# Make prediction on testing data\n",
        "xgb_y_pred_test = xgb_model.predict(X_test)\n",
        "\n",
        "# Create a DataFrame for actual vs predicted values\n",
        "a = pd.DataFrame({'Actual value': y_test, 'Predicted value': xgb_y_pred_test})\n",
        "print(a.head())\n",
        "\n",
        "# Print classification report\n",
        "print(\"Classification report for testing data - XGBoost\")\n",
        "print(classification_report(y_test, xgb_y_pred_test))\n"
      ]
    },
    {
      "cell_type": "markdown",
      "metadata": {
        "id": "30XFaVSmwH69"
      },
      "source": [
        "# XGBoost - adressing class imbalance"
      ]
    },
    {
      "cell_type": "code",
      "execution_count": null,
      "metadata": {
        "id": "korf0QbZwNk1"
      },
      "outputs": [],
      "source": [
        "# eXtreme Gradient Boosting (XGBoost)\n",
        "# Make the model\n",
        "xgb_model = XGBClassifier(random_state = 42)\n",
        "\n",
        "# Using RFE\n",
        "rfe_xgb = RFE(estimator = xgb_model, n_features_to_select = 11)\n",
        "\n",
        "xgb_pipeline = ImbPipeline(steps=[\n",
        "    ('smote', SMOTE(random_state = 42)),\n",
        "    ('feature selection', rfe_xgb),\n",
        "    ('classifier', xgb_model)\n",
        "])\n",
        "\n",
        "# Train the model on the training data\n",
        "xgb_pipeline.fit(X_train, y_train)\n",
        "\n",
        "# Validation data\n",
        "# Make prediction on validation data\n",
        "xgb_y_pred_val = xgb_pipeline.predict(X_val)\n",
        "\n",
        "# Create a DataFrame for actual vs predicted values\n",
        "a = pd.DataFrame({'Actual value': y_val, 'Predicted value': xgb_y_pred_val})\n",
        "print(a.head())\n",
        "\n",
        "# Print classification report\n",
        "print(\"Classification report for validation data - XGBoost\")\n",
        "print(classification_report(y_val, xgb_y_pred_val))\n",
        "\n",
        "# Testing data\n",
        "# Make prediction on testing data\n",
        "xgb_y_pred_test = xgb_pipeline.predict(X_test)\n",
        "\n",
        "# Create a DataFrame for actual vs predicted values\n",
        "a = pd.DataFrame({'Actual value': y_test, 'Predicted value': xgb_y_pred_test})\n",
        "print(a.head())\n",
        "\n",
        "# Print classification report\n",
        "print(\"Classification report for testing data - XGBoost\")\n",
        "print(classification_report(y_test, xgb_y_pred_test))\n"
      ]
    },
    {
      "cell_type": "markdown",
      "metadata": {
        "id": "f5xLsy6AxXtu"
      },
      "source": [
        "# XGBoost - hyperparameter tuning"
      ]
    },
    {
      "cell_type": "code",
      "execution_count": null,
      "metadata": {
        "id": "AXbCdPG6P8kv"
      },
      "outputs": [],
      "source": [
        "# eXtreme Gradient Boosting (XGBoost)\n",
        "# Make the model\n",
        "xgb_model = XGBClassifier(random_state = 42)\n",
        "\n",
        "# Using RFE to select the op 11\n",
        "rfe_xgb = RFE(estimator = xgb_model, n_features_to_select = 11)\n",
        "\n",
        "xgb_pipeline = ImbPipeline(steps=[\n",
        "    ('smote', SMOTE(random_state = 42)),\n",
        "    ('feature selection', rfe_xgb),\n",
        "    ('classifier', xgb_model)\n",
        "])\n",
        "\n",
        "# Hyperparameter tuning with GridSearchCV\n",
        "xgb_param_grid = {'classifier__n_estimators': [100, 200],\n",
        "              'classifier__max_depth': [3, 5, 7],\n",
        "              'classifier__scale_pos_weight': [1, 3]\n",
        "}\n",
        "\n",
        "# K-Fold Cross-Validation\n",
        "kf_cv = KFold(n_splits = 5, shuffle = True, random_state = 42)\n",
        "\n",
        "# Scoring\n",
        "scoring = {\n",
        "    'accuracy': make_scorer(accuracy_score),\n",
        "    'precision': make_scorer(precision_score, pos_label = 1),\n",
        "    'recall': make_scorer(recall_score, pos_label = 1),\n",
        "    'f1_weighted': make_scorer(f1_score, average = \"weighted\")\n",
        "}\n",
        "\n",
        "# GridSearchCV\n",
        "xgb_grid_search = GridSearchCV(\n",
        "    estimator = xgb_pipeline,\n",
        "    param_grid = xgb_param_grid,\n",
        "    cv = kf_cv,\n",
        "    scoring = scoring,\n",
        "    refit = 'f1_weighted',\n",
        "    n_jobs = -1,\n",
        "    verbose = 3\n",
        ")\n",
        "\n",
        "# Train the model on the training data\n",
        "xgb_grid_search.fit(X_train, y_train)\n",
        "\n",
        "#-------------------------------------------------------------------------------\n",
        "\n",
        "# Results per fold\n",
        "cv_results = pd.DataFrame(xgb_grid_search.cv_results_)\n",
        "\n",
        "# Columns for per-fold scores\n",
        "fold_columns = [col for col in cv_results.columns if \"split\" in col and \"test_f1\" in col]\n",
        "\n",
        "# For each fold finding the beste hyperparameters\n",
        "best_params_per_fold = {}\n",
        "for i, fold_col in enumerate(fold_columns):\n",
        "    best_index = cv_results[fold_col].idxmax()\n",
        "    best_params_per_fold[f\"fold {i+1}\"] = {\n",
        "        \"best_params\": {param: cv_results.loc[best_index, param] for param in cv_results.columns if param.startswith(\"param_\")},\n",
        "        \"best_score\": cv_results.loc[best_index, fold_col]\n",
        "    }\n",
        "\n",
        "# Display the best hyperparameters per fold\n",
        "for fold, result in best_params_per_fold.items():\n",
        "    print(f\"{fold}:\")\n",
        "    print(f\"  Best Hyperparameters: {result['best_params']}\")\n",
        "    print(f\"  Best Weighted F1-Score: {result['best_score']:.4f}\")\n",
        "\n",
        "print(\"Best hyperparameters:\", xgb_grid_search.best_params_)\n",
        "print(\"Best accuracy:\", xgb_grid_search.best_score_)\n",
        "print(\"Best precision:\", xgb_grid_search.cv_results_['mean_test_precision'][xgb_grid_search.best_index_])\n",
        "print(\"Best recall:\", xgb_grid_search.cv_results_['mean_test_recall'][xgb_grid_search.best_index_])\n",
        "print(\"Best F1-score:\", xgb_grid_search.cv_results_['mean_test_f1_weighted'][xgb_grid_search.best_index_])\n",
        "\n",
        "#-------------------------------------------------------------------------------\n",
        "# Training data\n",
        "# Make prediction on validation data\n",
        "xgb_y_pred_train = xgb_grid_search.predict(X_train)\n",
        "\n",
        "# Print classification report\n",
        "print(\"Classification report for validation data - XGBoost\")\n",
        "print(classification_report(y_train, xgb_y_pred_train))\n",
        "\n",
        "# Validation data\n",
        "# Make prediction on validation data\n",
        "xgb_y_pred_val = xgb_grid_search.predict(X_val)\n",
        "\n",
        "# Print classification report\n",
        "print(\"Classification report for validation data - XGBoost\")\n",
        "print(classification_report(y_val, xgb_y_pred_val))\n",
        "\n",
        "# Testing data\n",
        "# Make prediction on testing data\n",
        "xgb_y_pred_test = xgb_grid_search.predict(X_test)\n",
        "\n",
        "# Print classification report\n",
        "print(\"Classification report for testing data - XGBoost\")\n",
        "print(classification_report(y_test, xgb_y_pred_test))\n"
      ]
    },
    {
      "cell_type": "markdown",
      "metadata": {
        "id": "TVUZZgAa9L-I"
      },
      "source": [
        "# Feature importance - XGBoost"
      ]
    },
    {
      "cell_type": "code",
      "execution_count": null,
      "metadata": {
        "id": "GBLBpXc3w2-8"
      },
      "outputs": [],
      "source": [
        "# Changing the features to more readable names\n",
        "feature_name_mapping = {\n",
        "    'num__AGE': 'Age',\n",
        "    'num__MINIMUM WAGE': 'Minimum Wage',\n",
        "    'cat_label__EDUC': 'Education',\n",
        "    'binary__LABFORCE_binary': 'Labor Force Status',\n",
        "    'binary__CLASSWKR_binary': 'Class of Worker',\n",
        "    'binary__SEX_binary': 'Gender',\n",
        "    'cat_encode__MARST_Married': 'Marital Status - Married',\n",
        "    'cat_encode__RACE_White': 'Race - White',\n",
        "    'cat_encode__MARST_Never married': 'Marital Status - Never Married',\n",
        "    'cat_encode__RACE_Others': 'Race - others',\n",
        "    'cat_encode__RACE_BAME': 'Race - BAME'\n",
        "}\n",
        "\n",
        "# Access the fitted RFE and XGBClassifier from the pipeline\n",
        "fitted_rfe = xgb_grid_search.best_estimator_.named_steps['feature selection']\n",
        "fitted_xgb = xgb_grid_search.best_estimator_.named_steps['classifier']\n",
        "\n",
        "# Get the selected features based on RFE\n",
        "selected_features = X_train.columns[fitted_rfe.support_]\n",
        "\n",
        "# Rename the features using the mapping dictionary\n",
        "renamed_features = [feature_name_mapping.get(feat, feat) for feat in selected_features]\n",
        "\n",
        "# Get feature importances from the XGBClassifier (for selected features)\n",
        "feature_importances = fitted_xgb.feature_importances_\n",
        "\n",
        "# Sort feature importances for better visualization\n",
        "sorted_idx = np.argsort(feature_importances)\n",
        "sorted_importances = feature_importances[sorted_idx]\n",
        "sorted_renamed_features = [renamed_features[idx] for idx in sorted_idx]\n",
        "\n",
        "# Plot feature importances\n",
        "plt.figure(figsize=(10, 6))\n",
        "plt.barh(sorted_renamed_features, sorted_importances, color='#ADD8E6')\n",
        "plt.xlabel('Feature importance score', fontsize=16)\n",
        "plt.ylabel('Features', fontsize =16)\n",
        "plt.title('Feature importance - XGBoost', fontsize = 20)\n",
        "plt.xticks(fontsize=14)\n",
        "plt.yticks(fontsize=14)\n",
        "plt.tight_layout()\n",
        "plt.show()\n"
      ]
    },
    {
      "cell_type": "markdown",
      "source": [
        "# Confusion matrix displayed as heatmap"
      ],
      "metadata": {
        "id": "h_vlrDtE8ypK"
      }
    },
    {
      "cell_type": "code",
      "source": [
        "# Confusion matrix for the test data\n",
        "conf_matrix = confusion_matrix(y_test, xgb_y_pred_test)\n",
        "\n",
        "# Plot de heatmap\n",
        "plt.figure(figsize=(8, 6))\n",
        "sns.heatmap(conf_matrix, annot=True, fmt='d', cmap='Blues', xticklabels=['Employed', 'Unemployed'], yticklabels=['Employed', 'Unemployed'],annot_kws={\"size\": 16} )\n",
        "plt.xlabel('Predicted value', fontsize=18)\n",
        "plt.ylabel('True value', fontsize=18)\n",
        "plt.title('Confusion Matrix - XGBoost', fontsize=20)\n",
        "plt.xticks(fontsize=16)\n",
        "plt.yticks(fontsize=16)\n",
        "plt.show()\n"
      ],
      "metadata": {
        "id": "onYw4NpY8iVy"
      },
      "execution_count": null,
      "outputs": []
    },
    {
      "cell_type": "markdown",
      "source": [
        "# Actual vs predicted - scatterplot"
      ],
      "metadata": {
        "id": "yQ-Y217-9HRF"
      }
    },
    {
      "cell_type": "code",
      "source": [
        "# Actual vs predicted\n",
        "actual = y_test\n",
        "predicted = xgb_y_pred_test\n",
        "\n",
        "classes = np.unique(actual)\n",
        "\n",
        "# Scatterplot\n",
        "plt.figure(figsize=(8, 6))\n",
        "for cls in classes:\n",
        "    plt.scatter(\n",
        "        np.where(actual == cls)[0],\n",
        "        predicted[actual == cls],\n",
        "        label=f\"Class {cls}\"\n",
        "    )\n",
        "\n",
        "plt.axhline(y=0.5, color=\"gray\", linestyle=\"--\", label=\"Decision boundary\")\n",
        "plt.xlabel(\"Sample index\", fontsize=18)\n",
        "plt.ylabel(\"Predicted value\", fontsize=18)\n",
        "plt.title(\"Actual vs Predicted - XGBoost\", fontsize=20)\n",
        "plt.xticks(fontsize=16)\n",
        "plt.yticks(fontsize=16)\n",
        "plt.legend(loc=\"best\", fontsize = 12)\n"
      ],
      "metadata": {
        "id": "wL2Vflow8pHe"
      },
      "execution_count": null,
      "outputs": []
    }
  ],
  "metadata": {
    "colab": {
      "collapsed_sections": [
        "R8HMm0AtawDi",
        "DAoXceV9bG3p",
        "n_AcdT9-ji_S",
        "xqt2yYufkDi7",
        "xOsNHnmTjB1x",
        "zDuBqXqVAJkC",
        "L8FiA-v66Fls",
        "3EV4TZvO8Mg0",
        "rGuc2Yfw38Ql",
        "foHzPGMT4m-0",
        "FpfvvrqHDy2f",
        "Ez5nXtyjvde-",
        "30XFaVSmwH69",
        "f5xLsy6AxXtu",
        "TVUZZgAa9L-I",
        "h_vlrDtE8ypK",
        "yQ-Y217-9HRF"
      ],
      "provenance": [],
      "mount_file_id": "1Radep79bJeDCvk23nWZ2NSbmtXHaUfj9",
      "authorship_tag": "ABX9TyNxAt6kgtSVZvsIYeQnxnCR",
      "include_colab_link": true
    },
    "kernelspec": {
      "display_name": "Python 3",
      "name": "python3"
    },
    "language_info": {
      "name": "python"
    }
  },
  "nbformat": 4,
  "nbformat_minor": 0
}